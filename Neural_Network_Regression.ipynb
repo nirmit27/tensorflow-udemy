{
  "nbformat": 4,
  "nbformat_minor": 0,
  "metadata": {
    "colab": {
      "provenance": [],
      "gpuType": "T4",
      "authorship_tag": "ABX9TyMo+dsBAL99hBRxSxzs0lh3",
      "include_colab_link": true
    },
    "kernelspec": {
      "name": "python3",
      "display_name": "Python 3"
    },
    "language_info": {
      "name": "python"
    },
    "accelerator": "GPU"
  },
  "cells": [
    {
      "cell_type": "markdown",
      "metadata": {
        "id": "view-in-github",
        "colab_type": "text"
      },
      "source": [
        "<a href=\"https://colab.research.google.com/github/nirmit27/tensorflow-udemy/blob/main/Neural_Network_Regression.ipynb\" target=\"_parent\"><img src=\"https://colab.research.google.com/assets/colab-badge.svg\" alt=\"Open In Colab\"/></a>"
      ]
    },
    {
      "cell_type": "code",
      "execution_count": 1,
      "metadata": {
        "colab": {
          "base_uri": "https://localhost:8080/",
          "height": 81
        },
        "id": "EbYexqFRVkgl",
        "outputId": "62e0bcea-be14-4c34-8dd2-d80d5e7372e8"
      },
      "outputs": [
        {
          "output_type": "execute_result",
          "data": {
            "text/plain": [
              "        TensorFlow   Numpy\n",
              "Version     2.15.0  1.25.2"
            ],
            "text/html": [
              "\n",
              "  <div id=\"df-86cb43a1-3d64-4c70-87d7-09585115be00\" class=\"colab-df-container\">\n",
              "    <div>\n",
              "<style scoped>\n",
              "    .dataframe tbody tr th:only-of-type {\n",
              "        vertical-align: middle;\n",
              "    }\n",
              "\n",
              "    .dataframe tbody tr th {\n",
              "        vertical-align: top;\n",
              "    }\n",
              "\n",
              "    .dataframe thead th {\n",
              "        text-align: right;\n",
              "    }\n",
              "</style>\n",
              "<table border=\"1\" class=\"dataframe\">\n",
              "  <thead>\n",
              "    <tr style=\"text-align: right;\">\n",
              "      <th></th>\n",
              "      <th>TensorFlow</th>\n",
              "      <th>Numpy</th>\n",
              "    </tr>\n",
              "  </thead>\n",
              "  <tbody>\n",
              "    <tr>\n",
              "      <th>Version</th>\n",
              "      <td>2.15.0</td>\n",
              "      <td>1.25.2</td>\n",
              "    </tr>\n",
              "  </tbody>\n",
              "</table>\n",
              "</div>\n",
              "    <div class=\"colab-df-buttons\">\n",
              "\n",
              "  <div class=\"colab-df-container\">\n",
              "    <button class=\"colab-df-convert\" onclick=\"convertToInteractive('df-86cb43a1-3d64-4c70-87d7-09585115be00')\"\n",
              "            title=\"Convert this dataframe to an interactive table.\"\n",
              "            style=\"display:none;\">\n",
              "\n",
              "  <svg xmlns=\"http://www.w3.org/2000/svg\" height=\"24px\" viewBox=\"0 -960 960 960\">\n",
              "    <path d=\"M120-120v-720h720v720H120Zm60-500h600v-160H180v160Zm220 220h160v-160H400v160Zm0 220h160v-160H400v160ZM180-400h160v-160H180v160Zm440 0h160v-160H620v160ZM180-180h160v-160H180v160Zm440 0h160v-160H620v160Z\"/>\n",
              "  </svg>\n",
              "    </button>\n",
              "\n",
              "  <style>\n",
              "    .colab-df-container {\n",
              "      display:flex;\n",
              "      gap: 12px;\n",
              "    }\n",
              "\n",
              "    .colab-df-convert {\n",
              "      background-color: #E8F0FE;\n",
              "      border: none;\n",
              "      border-radius: 50%;\n",
              "      cursor: pointer;\n",
              "      display: none;\n",
              "      fill: #1967D2;\n",
              "      height: 32px;\n",
              "      padding: 0 0 0 0;\n",
              "      width: 32px;\n",
              "    }\n",
              "\n",
              "    .colab-df-convert:hover {\n",
              "      background-color: #E2EBFA;\n",
              "      box-shadow: 0px 1px 2px rgba(60, 64, 67, 0.3), 0px 1px 3px 1px rgba(60, 64, 67, 0.15);\n",
              "      fill: #174EA6;\n",
              "    }\n",
              "\n",
              "    .colab-df-buttons div {\n",
              "      margin-bottom: 4px;\n",
              "    }\n",
              "\n",
              "    [theme=dark] .colab-df-convert {\n",
              "      background-color: #3B4455;\n",
              "      fill: #D2E3FC;\n",
              "    }\n",
              "\n",
              "    [theme=dark] .colab-df-convert:hover {\n",
              "      background-color: #434B5C;\n",
              "      box-shadow: 0px 1px 3px 1px rgba(0, 0, 0, 0.15);\n",
              "      filter: drop-shadow(0px 1px 2px rgba(0, 0, 0, 0.3));\n",
              "      fill: #FFFFFF;\n",
              "    }\n",
              "  </style>\n",
              "\n",
              "    <script>\n",
              "      const buttonEl =\n",
              "        document.querySelector('#df-86cb43a1-3d64-4c70-87d7-09585115be00 button.colab-df-convert');\n",
              "      buttonEl.style.display =\n",
              "        google.colab.kernel.accessAllowed ? 'block' : 'none';\n",
              "\n",
              "      async function convertToInteractive(key) {\n",
              "        const element = document.querySelector('#df-86cb43a1-3d64-4c70-87d7-09585115be00');\n",
              "        const dataTable =\n",
              "          await google.colab.kernel.invokeFunction('convertToInteractive',\n",
              "                                                    [key], {});\n",
              "        if (!dataTable) return;\n",
              "\n",
              "        const docLinkHtml = 'Like what you see? Visit the ' +\n",
              "          '<a target=\"_blank\" href=https://colab.research.google.com/notebooks/data_table.ipynb>data table notebook</a>'\n",
              "          + ' to learn more about interactive tables.';\n",
              "        element.innerHTML = '';\n",
              "        dataTable['output_type'] = 'display_data';\n",
              "        await google.colab.output.renderOutput(dataTable, element);\n",
              "        const docLink = document.createElement('div');\n",
              "        docLink.innerHTML = docLinkHtml;\n",
              "        element.appendChild(docLink);\n",
              "      }\n",
              "    </script>\n",
              "  </div>\n",
              "\n",
              "\n",
              "    </div>\n",
              "  </div>\n"
            ],
            "application/vnd.google.colaboratory.intrinsic+json": {
              "type": "dataframe",
              "repr_error": "'str' object has no attribute 'empty'"
            }
          },
          "metadata": {},
          "execution_count": 1
        }
      ],
      "source": [
        "import pandas as pd\n",
        "import numpy as np\n",
        "from matplotlib import pyplot as plt\n",
        "\n",
        "# TensorFlow modules\n",
        "import tensorflow as tf\n",
        "from tensorflow.keras.utils import plot_model\n",
        "\n",
        "pd.DataFrame({\"TensorFlow\" : tf.__version__, \"Numpy\" : np.__version__}, index=['Version'])"
      ]
    },
    {
      "cell_type": "markdown",
      "source": [
        "# **Keras**&nbsp;&nbsp;&nbsp;`Fit -> Evaluate -> Tweak -> Repeat`\n",
        "### Making a simple **Regression** model"
      ],
      "metadata": {
        "id": "9WrfVdkFrW1_"
      }
    },
    {
      "cell_type": "markdown",
      "source": [
        "### **Sample** data\n",
        "Two **1-dimensional** tensors"
      ],
      "metadata": {
        "id": "xlJ6lY5frL2i"
      }
    },
    {
      "cell_type": "code",
      "source": [
        "tf.random.set_seed(42)\n",
        "\n",
        "X = tf.constant([-7.0, -4.0, -1.0, 2.0, 5.0, 8.0, 11.0, 14.0])\n",
        "y = tf.constant([3.0, 6.0, 9.0, 12.0, 15.0, 18.0, 21.0, 24.0])\n",
        "\n",
        "X.shape, y.shape"
      ],
      "metadata": {
        "colab": {
          "base_uri": "https://localhost:8080/"
        },
        "id": "9ZP9pRVZ6Dfp",
        "outputId": "f1b05da8-0a8a-4d80-f7ec-37d6d38a8d22"
      },
      "execution_count": 2,
      "outputs": [
        {
          "output_type": "execute_result",
          "data": {
            "text/plain": [
              "(TensorShape([8]), TensorShape([8]))"
            ]
          },
          "metadata": {},
          "execution_count": 2
        }
      ]
    },
    {
      "cell_type": "markdown",
      "source": [
        "### **Visualizing** X and y"
      ],
      "metadata": {
        "id": "vQrXSO2Grbj8"
      }
    },
    {
      "cell_type": "code",
      "source": [
        "plt.figure(figsize=(4, 4))\n",
        "plt.scatter(X, y)\n",
        "plt.title(\"Sample 1-dimensional data\")\n",
        "plt.xlabel(\"X\")\n",
        "plt.ylabel(\"y\")\n",
        "plt.show()"
      ],
      "metadata": {
        "colab": {
          "base_uri": "https://localhost:8080/",
          "height": 410
        },
        "id": "14eA3-_vdiIP",
        "outputId": "3de49e33-4b13-4570-d231-df0bd7ab9826"
      },
      "execution_count": 3,
      "outputs": [
        {
          "output_type": "display_data",
          "data": {
            "text/plain": [
              "<Figure size 400x400 with 1 Axes>"
            ],
            "image/png": "[encoded data removed]"
          },
          "metadata": {}
        }
      ]
    },
    {
      "cell_type": "markdown",
      "source": [
        "### **Creating** the model"
      ],
      "metadata": {
        "id": "OMPGBNcprgeE"
      }
    },
    {
      "cell_type": "code",
      "source": [
        "model = tf.keras.Sequential([\n",
        "    tf.keras.layers.Dense(100, activation=None),\n",
        "    tf.keras.layers.Dense(1)\n",
        "])"
      ],
      "metadata": {
        "id": "wBDNRrW3bTJ5"
      },
      "execution_count": 4,
      "outputs": []
    },
    {
      "cell_type": "markdown",
      "source": [
        "### **Compiling** the model"
      ],
      "metadata": {
        "id": "MJPlW44OrlUs"
      }
    },
    {
      "cell_type": "code",
      "source": [
        "model.compile(\n",
        "    loss=tf.keras.losses.mae,\n",
        "    optimizer=tf.keras.optimizers.Adam(learning_rate=0.01),\n",
        "    metrics=['mae']\n",
        ")"
      ],
      "metadata": {
        "id": "5y7hUuVubpWK"
      },
      "execution_count": 5,
      "outputs": []
    },
    {
      "cell_type": "markdown",
      "source": [
        "### **Fitting** the model"
      ],
      "metadata": {
        "id": "Z9tV4QKErpV-"
      }
    },
    {
      "cell_type": "code",
      "source": [
        "model.fit(tf.expand_dims(X, axis=-1), y, epochs=100, verbose=0)"
      ],
      "metadata": {
        "id": "ZoisBBaUcBrt",
        "colab": {
          "base_uri": "https://localhost:8080/"
        },
        "outputId": "e5054ffb-15eb-4f7c-b415-35f971a45496"
      },
      "execution_count": 6,
      "outputs": [
        {
          "output_type": "execute_result",
          "data": {
            "text/plain": [
              "<keras.src.callbacks.History at 0x7fe0711656c0>"
            ]
          },
          "metadata": {},
          "execution_count": 6
        }
      ]
    },
    {
      "cell_type": "markdown",
      "source": [
        "### Making a **prediction** - Predicting the `y` value for any `X` value"
      ],
      "metadata": {
        "id": "9ILAeWmsruYL"
      }
    },
    {
      "cell_type": "code",
      "source": [
        "y_pred = model.predict([100])\n",
        "y_pred"
      ],
      "metadata": {
        "colab": {
          "base_uri": "https://localhost:8080/"
        },
        "id": "CR4CrOZZhImV",
        "outputId": "d8996bea-c5f1-47f9-c5f9-09daee65e3a1"
      },
      "execution_count": 7,
      "outputs": [
        {
          "output_type": "stream",
          "name": "stdout",
          "text": [
            "1/1 [==============================] - 0s 93ms/step\n"
          ]
        },
        {
          "output_type": "execute_result",
          "data": {
            "text/plain": [
              "array([[115.76828]], dtype=float32)"
            ]
          },
          "metadata": {},
          "execution_count": 7
        }
      ]
    },
    {
      "cell_type": "markdown",
      "source": [
        "### **Evaluating** the model"
      ],
      "metadata": {
        "id": "68IzTC_3r0N6"
      }
    },
    {
      "cell_type": "code",
      "source": [
        "model.evaluate([5.0, 8.0], [15.0, 18.0])"
      ],
      "metadata": {
        "colab": {
          "base_uri": "https://localhost:8080/"
        },
        "id": "sV-y4__biTcP",
        "outputId": "7dd319f0-49df-485d-fee2-971a5e24651a"
      },
      "execution_count": 8,
      "outputs": [
        {
          "output_type": "stream",
          "name": "stdout",
          "text": [
            "1/1 [==============================] - 0s 215ms/step - loss: 0.4110 - mae: 0.4110\n"
          ]
        },
        {
          "output_type": "execute_result",
          "data": {
            "text/plain": [
              "[0.41100025177001953, 0.41100025177001953]"
            ]
          },
          "metadata": {},
          "execution_count": 8
        }
      ]
    },
    {
      "cell_type": "markdown",
      "source": [
        "### **Splitting** the dataset into **3** sets\n",
        "#### 1. `Training` set\n",
        "#### 2. `Validation` set\n",
        "#### 3. `Testing` set"
      ],
      "metadata": {
        "id": "CbQHSak1Cdem"
      }
    },
    {
      "cell_type": "code",
      "source": [
        "X = tf.range(-100, 100, 4)\n",
        "y = X + 10\n",
        "\n",
        "X_train = X[:25]\n",
        "X_test = X[25:]\n",
        "\n",
        "y_train = y[:25]\n",
        "y_test = y[25:]\n",
        "\n",
        "X_train, X_test, y_train, y_test"
      ],
      "metadata": {
        "colab": {
          "base_uri": "https://localhost:8080/"
        },
        "id": "FojZT207Cwgg",
        "outputId": "c4afa9a2-fa27-4695-d8a1-94000a67ab2c"
      },
      "execution_count": 9,
      "outputs": [
        {
          "output_type": "execute_result",
          "data": {
            "text/plain": [
              "(<tf.Tensor: shape=(25,), dtype=int32, numpy=\n",
              " array([-100,  -96,  -92,  -88,  -84,  -80,  -76,  -72,  -68,  -64,  -60,\n",
              "         -56,  -52,  -48,  -44,  -40,  -36,  -32,  -28,  -24,  -20,  -16,\n",
              "         -12,   -8,   -4], dtype=int32)>,\n",
              " <tf.Tensor: shape=(25,), dtype=int32, numpy=\n",
              " array([ 0,  4,  8, 12, 16, 20, 24, 28, 32, 36, 40, 44, 48, 52, 56, 60, 64,\n",
              "        68, 72, 76, 80, 84, 88, 92, 96], dtype=int32)>,\n",
              " <tf.Tensor: shape=(25,), dtype=int32, numpy=\n",
              " array([-90, -86, -82, -78, -74, -70, -66, -62, -58, -54, -50, -46, -42,\n",
              "        -38, -34, -30, -26, -22, -18, -14, -10,  -6,  -2,   2,   6],\n",
              "       dtype=int32)>,\n",
              " <tf.Tensor: shape=(25,), dtype=int32, numpy=\n",
              " array([ 10,  14,  18,  22,  26,  30,  34,  38,  42,  46,  50,  54,  58,\n",
              "         62,  66,  70,  74,  78,  82,  86,  90,  94,  98, 102, 106],\n",
              "       dtype=int32)>)"
            ]
          },
          "metadata": {},
          "execution_count": 9
        }
      ]
    },
    {
      "cell_type": "markdown",
      "source": [
        "### **Visualising** the dataset"
      ],
      "metadata": {
        "id": "0RmxrxaLkiKs"
      }
    },
    {
      "cell_type": "code",
      "source": [
        "plt.scatter(X_train, y_train, c='b', label='Training data')\n",
        "plt.scatter(X_test, y_test, c='r', label='Testing data')\n",
        "\n",
        "plt.legend(['Training', 'Testing'])\n",
        "plt.title('Visualising the data')\n",
        "\n",
        "plt.show()"
      ],
      "metadata": {
        "colab": {
          "base_uri": "https://localhost:8080/",
          "height": 452
        },
        "id": "aTwL7IPuDu4u",
        "outputId": "a77a57e3-a5d7-491b-8b29-ac1acfc73fe6"
      },
      "execution_count": 10,
      "outputs": [
        {
          "output_type": "display_data",
          "data": {
            "text/plain": [
              "<Figure size 640x480 with 1 Axes>"
            ],
            "image/png": "[encoded data removed]"
          },
          "metadata": {}
        }
      ]
    },
    {
      "cell_type": "markdown",
      "source": [
        "### **Modelling**\n",
        "* Number of **trainable params** per neuron in the **Hidden Layer** = `2`"
      ],
      "metadata": {
        "id": "kwHPURwyEuGR"
      }
    },
    {
      "cell_type": "code",
      "source": [
        "tf.random.set_seed(69)\n",
        "\n",
        "# Creating the model\n",
        "model = tf.keras.Sequential([\n",
        "    tf.keras.layers.Dense(10, input_shape=[1], name=\"input_layer\"),\n",
        "    tf.keras.layers.Dense(1, name=\"output_layer\")\n",
        "], name=\"sample_model\")\n",
        "\n",
        "# Compiling the model\n",
        "model.compile(\n",
        "    loss=tf.keras.losses.mae,\n",
        "    optimizer=tf.keras.optimizers.Adam(learning_rate=0.1),\n",
        "    metrics=['mae']\n",
        ")\n",
        "\n",
        "# Fitting the model\n",
        "model.fit(X_train, y_train, epochs=300, verbose=0)\n",
        "\n",
        "# Obtaining model summary\n",
        "model.build()\n",
        "model.summary()"
      ],
      "metadata": {
        "colab": {
          "base_uri": "https://localhost:8080/"
        },
        "id": "ZCq4ixAMExxj",
        "outputId": "6ff67ff5-89c4-4471-cbf3-21d3d32c97db"
      },
      "execution_count": 11,
      "outputs": [
        {
          "output_type": "stream",
          "name": "stdout",
          "text": [
            "Model: \"sample_model\"\n",
            "_________________________________________________________________\n",
            " Layer (type)                Output Shape              Param #   \n",
            "=================================================================\n",
            " input_layer (Dense)         (None, 10)                20        \n",
            "                                                                 \n",
            " output_layer (Dense)        (None, 1)                 11        \n",
            "                                                                 \n",
            "=================================================================\n",
            "Total params: 31 (124.00 Byte)\n",
            "Trainable params: 31 (124.00 Byte)\n",
            "Non-trainable params: 0 (0.00 Byte)\n",
            "_________________________________________________________________\n"
          ]
        }
      ]
    },
    {
      "cell_type": "markdown",
      "source": [
        "### Visualising the **model's layers**"
      ],
      "metadata": {
        "id": "AdDhpppKMHAa"
      }
    },
    {
      "cell_type": "code",
      "source": [
        "plot_model(model, show_shapes=True)"
      ],
      "metadata": {
        "colab": {
          "base_uri": "https://localhost:8080/",
          "height": 312
        },
        "id": "U_wxnY9WMM-_",
        "outputId": "32da4242-bb75-463a-e67e-3ced4313c195"
      },
      "execution_count": 12,
      "outputs": [
        {
          "output_type": "execute_result",
          "data": {
            "image/png": "[encoded data removed]",
            "text/plain": [
              "<IPython.core.display.Image object>"
            ]
          },
          "metadata": {},
          "execution_count": 12
        }
      ]
    },
    {
      "cell_type": "markdown",
      "source": [
        "### Visualising the **predictions**"
      ],
      "metadata": {
        "id": "nRlcGuEwPrl9"
      }
    },
    {
      "cell_type": "code",
      "source": [
        "y_pred = model.predict(X_test)\n",
        "y_pred, y_test.numpy()"
      ],
      "metadata": {
        "colab": {
          "base_uri": "https://localhost:8080/"
        },
        "id": "PEEs2Sv7Pv8P",
        "outputId": "6301a0d0-4239-4a9a-ecbb-c62feb9217ab"
      },
      "execution_count": 13,
      "outputs": [
        {
          "output_type": "stream",
          "name": "stdout",
          "text": [
            "1/1 [==============================] - 0s 125ms/step\n"
          ]
        },
        {
          "output_type": "execute_result",
          "data": {
            "text/plain": [
              "(array([[ 10.197191],\n",
              "        [ 14.2554  ],\n",
              "        [ 18.31361 ],\n",
              "        [ 22.37182 ],\n",
              "        [ 26.430029],\n",
              "        [ 30.488237],\n",
              "        [ 34.546448],\n",
              "        [ 38.604656],\n",
              "        [ 42.662865],\n",
              "        [ 46.721073],\n",
              "        [ 50.77928 ],\n",
              "        [ 54.837494],\n",
              "        [ 58.895702],\n",
              "        [ 62.95391 ],\n",
              "        [ 67.01212 ],\n",
              "        [ 71.070335],\n",
              "        [ 75.12854 ],\n",
              "        [ 79.18675 ],\n",
              "        [ 83.24496 ],\n",
              "        [ 87.30317 ],\n",
              "        [ 91.361374],\n",
              "        [ 95.419586],\n",
              "        [ 99.47779 ],\n",
              "        [103.53601 ],\n",
              "        [107.594215]], dtype=float32),\n",
              " array([ 10,  14,  18,  22,  26,  30,  34,  38,  42,  46,  50,  54,  58,\n",
              "         62,  66,  70,  74,  78,  82,  86,  90,  94,  98, 102, 106],\n",
              "       dtype=int32))"
            ]
          },
          "metadata": {},
          "execution_count": 13
        }
      ]
    },
    {
      "cell_type": "markdown",
      "source": [
        "### **Plotting** function for visualizing the data"
      ],
      "metadata": {
        "id": "vLuja25qQszS"
      }
    },
    {
      "cell_type": "code",
      "source": [
        "def plot_preds(train_data=X_train, train_labels=y_train, test_data=X_test, test_labels=y_test, predictions=y_pred, x_axis_label=\"X\", y_axis_label=\"y\"):\n",
        "  \"\"\"Plots training data, test data and compares predictions to ground truth labels.\"\"\"\n",
        "  fig = plt.figure(figsize=(8, 6))\n",
        "\n",
        "  # Training datapts. in BLUE\n",
        "  plt.scatter(train_data, train_labels, c='b', label='Training data')\n",
        "\n",
        "  # Training datapts. in GREEN\n",
        "  plt.scatter(test_data, test_labels, c='g', label='Testing data')\n",
        "\n",
        "  # Predicted datapts. in RED\n",
        "  plt.scatter(test_data, predictions, c='r', label='Prediction')\n",
        "\n",
        "  plt.title(\"Model Performance\", fontweight='bold', fontsize=15)\n",
        "\n",
        "  plt.xlabel(f\"$\\mathbf{{{x_axis_label}}}$\", fontweight='bold', labelpad=10)\n",
        "  plt.ylabel(f\"$\\mathbf{{{y_axis_label}}}$\", fontweight='bold', labelpad=0)\n",
        "\n",
        "  plt.legend()\n",
        "  plt.show()"
      ],
      "metadata": {
        "id": "sYxBnkJrQc8U"
      },
      "execution_count": 14,
      "outputs": []
    },
    {
      "cell_type": "code",
      "source": [
        "plot_preds(train_data=X_train, train_labels=y_train, test_data=X_test, test_labels=y_test, predictions=y_pred, y_axis_label='y=X+10')"
      ],
      "metadata": {
        "colab": {
          "base_uri": "https://localhost:8080/",
          "height": 574
        },
        "id": "DvdNUfQdSuve",
        "outputId": "b314ca07-08ae-4572-fa3f-b98d6196f7f9"
      },
      "execution_count": 15,
      "outputs": [
        {
          "output_type": "display_data",
          "data": {
            "text/plain": [
              "<Figure size 800x600 with 1 Axes>"
            ],
            "image/png": "[encoded data removed]"
          },
          "metadata": {}
        }
      ]
    },
    {
      "cell_type": "markdown",
      "source": [
        "### Evaluating the model's **prediction** performance using **Regression Evaluation** metrics"
      ],
      "metadata": {
        "id": "uGNGJqsOZOkR"
      }
    },
    {
      "cell_type": "markdown",
      "source": [
        "#### `Mean Absolute Error`"
      ],
      "metadata": {
        "id": "pY8ja4-Afis8"
      }
    },
    {
      "cell_type": "code",
      "source": [
        "model.evaluate(X_test, y_test)\n",
        "mae = tf.losses.mean_absolute_error(y_true=y_test, y_pred=tf.squeeze(y_pred))\n",
        "print(f\"Mean Absolute Error : {mae.numpy()}\")"
      ],
      "metadata": {
        "colab": {
          "base_uri": "https://localhost:8080/"
        },
        "id": "P2_Q2m3wc9Lf",
        "outputId": "3f2dfe79-988e-4576-ddf0-344813b8bb68"
      },
      "execution_count": 16,
      "outputs": [
        {
          "output_type": "stream",
          "name": "stdout",
          "text": [
            "1/1 [==============================] - 0s 253ms/step - loss: 0.8957 - mae: 0.8957\n",
            "Mean Absolute Error : 0.8957028985023499\n"
          ]
        }
      ]
    },
    {
      "cell_type": "markdown",
      "source": [
        "#### `Mean Squared Error`"
      ],
      "metadata": {
        "id": "q-srkjvofPSb"
      }
    },
    {
      "cell_type": "code",
      "source": [
        "mse = tf.losses.mean_squared_error(y_true=y_test, y_pred=tf.squeeze(y_pred))\n",
        "print(f\"Mean Squared Error : {mse.numpy()}\")"
      ],
      "metadata": {
        "colab": {
          "base_uri": "https://localhost:8080/"
        },
        "id": "V2ZFVDSUfJss",
        "outputId": "82aeb4b6-f240-4128-ccd2-bfbdf9b26851"
      },
      "execution_count": 17,
      "outputs": [
        {
          "output_type": "stream",
          "name": "stdout",
          "text": [
            "Mean Squared Error : 0.9784765839576721\n"
          ]
        }
      ]
    },
    {
      "cell_type": "markdown",
      "source": [
        "### **Utility** Functions for calculating **error**"
      ],
      "metadata": {
        "id": "ruUkNczifuff"
      }
    },
    {
      "cell_type": "code",
      "source": [
        "@tf.function\n",
        "def mae(true, pred):\n",
        "  res = tf.losses.mean_absolute_error(y_true=y_test, y_pred=tf.squeeze(y_pred))\n",
        "  return res\n",
        "\n",
        "@tf.function\n",
        "def mse(true, pred):\n",
        "  res = tf.losses.mean_squared_error(y_true=y_test, y_pred=tf.squeeze(y_pred))\n",
        "  return res"
      ],
      "metadata": {
        "id": "xkJr2BHZg3_Y"
      },
      "execution_count": 18,
      "outputs": []
    },
    {
      "cell_type": "code",
      "source": [
        "mae(y_test, y_pred).numpy()"
      ],
      "metadata": {
        "colab": {
          "base_uri": "https://localhost:8080/"
        },
        "id": "NP6U3QJvgLgi",
        "outputId": "c6f779b0-1097-4513-a649-779bb811ca60"
      },
      "execution_count": 20,
      "outputs": [
        {
          "output_type": "execute_result",
          "data": {
            "text/plain": [
              "0.8957029"
            ]
          },
          "metadata": {},
          "execution_count": 20
        }
      ]
    }
  ]
}