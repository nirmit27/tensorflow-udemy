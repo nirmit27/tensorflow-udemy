{
  "nbformat": 4,
  "nbformat_minor": 0,
  "metadata": {
    "colab": {
      "provenance": [],
      "authorship_tag": "ABX9TyPP1xkmgd3i87EJhl61QShV",
      "include_colab_link": true
    },
    "kernelspec": {
      "name": "python3",
      "display_name": "Python 3"
    },
    "language_info": {
      "name": "python"
    }
  },
  "cells": [
    {
      "cell_type": "markdown",
      "metadata": {
        "id": "view-in-github",
        "colab_type": "text"
      },
      "source": [
        "<a href=\"https://colab.research.google.com/github/nirmit27/tensorflow-udemy/blob/main/Intro.ipynb\" target=\"_parent\"><img src=\"https://colab.research.google.com/assets/colab-badge.svg\" alt=\"Open In Colab\"/></a>"
      ]
    },
    {
      "cell_type": "code",
      "source": [
        "import tensorflow as tf\n",
        "import numpy as np\n",
        "\n",
        "tf.__version__"
      ],
      "metadata": {
        "id": "nIPPF7tojORD"
      },
      "execution_count": null,
      "outputs": []
    },
    {
      "cell_type": "code",
      "source": [
        "x = tf.constant(np.random.randint(1, 11))\n",
        "y = tf.constant(np.array(\n",
        "    [np.linspace(1, 4, num=3),np.linspace(4, 6, num=3)]\n",
        "))\n",
        "\n",
        "y.ndim, y"
      ],
      "metadata": {
        "colab": {
          "base_uri": "https://localhost:8080/"
        },
        "id": "JCCiFTQFjhCc",
        "outputId": "fcb174f5-bc60-48b7-f913-0aee7ae8fb35"
      },
      "execution_count": null,
      "outputs": [
        {
          "output_type": "execute_result",
          "data": {
            "text/plain": [
              "(2,\n",
              " <tf.Tensor: shape=(2, 3), dtype=float64, numpy=\n",
              " array([[1. , 2.5, 4. ],\n",
              "        [4. , 5. , 6. ]])>)"
            ]
          },
          "metadata": {},
          "execution_count": 39
        }
      ]
    },
    {
      "cell_type": "code",
      "source": [
        "z = tf.constant([[\n",
        "    [i for i in range(1, 4)], [i for i in range(4, 7)],\n",
        "],\n",
        "     [\n",
        "         [i for i in range(7, 10)], [i for i in range(10, 13)]\n",
        "     ],\n",
        "     [\n",
        "         [i for i in range(13, 16)], [i for i in range(16, 19)]\n",
        "     ]\n",
        "])\n",
        "\n",
        "z.ndim, z"
      ],
      "metadata": {
        "colab": {
          "base_uri": "https://localhost:8080/"
        },
        "id": "TyW_vYoun29I",
        "outputId": "590e8708-c444-4ef2-9519-251ff696d665"
      },
      "execution_count": 43,
      "outputs": [
        {
          "output_type": "execute_result",
          "data": {
            "text/plain": [
              "(3,\n",
              " <tf.Tensor: shape=(3, 2, 3), dtype=int32, numpy=\n",
              " array([[[ 1,  2,  3],\n",
              "         [ 4,  5,  6]],\n",
              " \n",
              "        [[ 7,  8,  9],\n",
              "         [10, 11, 12]],\n",
              " \n",
              "        [[13, 14, 15],\n",
              "         [16, 17, 18]]], dtype=int32)>)"
            ]
          },
          "metadata": {},
          "execution_count": 43
        }
      ]
    },
    {
      "cell_type": "code",
      "source": [],
      "metadata": {
        "id": "7AvfYtTyrDnU"
      },
      "execution_count": null,
      "outputs": []
    }
  ]
}