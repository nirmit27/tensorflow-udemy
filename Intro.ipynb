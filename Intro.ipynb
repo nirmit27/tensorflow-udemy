{
  "cells": [
    {
      "cell_type": "markdown",
      "metadata": {
        "colab_type": "text",
        "id": "view-in-github"
      },
      "source": [
        "<a href=\"https://colab.research.google.com/github/nirmit27/tensorflow-udemy/blob/main/Intro.ipynb\" target=\"_parent\"><img src=\"https://colab.research.google.com/assets/colab-badge.svg\" alt=\"Open In Colab\"/></a>"
      ]
    },
    {
      "cell_type": "markdown",
      "metadata": {
        "id": "036YD6FZsWhL"
      },
      "source": [
        "# Introduction to <b>TensorFlow</b>&nbsp;&nbsp;🤖\n",
        "\n",
        "> When in **doubt**, **code** it out."
      ]
    },
    {
      "cell_type": "code",
      "execution_count": 52,
      "metadata": {
        "id": "nIPPF7tojORD"
      },
      "outputs": [
        {
          "data": {
            "text/plain": [
              "'2.15.0'"
            ]
          },
          "execution_count": 52,
          "metadata": {},
          "output_type": "execute_result"
        }
      ],
      "source": [
        "import numpy as np\n",
        "import tensorflow as tf\n",
        "import tensorflow_probability as tfp\n",
        "\n",
        "rng = np.random.default_rng(seed=27)\n",
        "\n",
        "tf.__version__"
      ]
    },
    {
      "cell_type": "markdown",
      "metadata": {
        "id": "OeT-PL3irsj4"
      },
      "source": [
        "### Creating **unchangeable** tensors with `tf.constant()`"
      ]
    },
    {
      "cell_type": "code",
      "execution_count": 2,
      "metadata": {
        "id": "TyW_vYoun29I"
      },
      "outputs": [
        {
          "data": {
            "text/plain": [
              "(<tf.Tensor: shape=(), dtype=int32, numpy=8>,\n",
              " <tf.Tensor: shape=(3, 3), dtype=float64, numpy=\n",
              " array([[0.69773622, 0.31381427, 0.1211971 ],\n",
              "        [0.32359152, 0.93121187, 0.78966731],\n",
              "        [0.01001912, 0.19893322, 0.29311369]])>,\n",
              " <tf.Tensor: shape=(3, 2, 3), dtype=int32, numpy=\n",
              " array([[[ 1,  2,  3],\n",
              "         [ 4,  5,  6]],\n",
              " \n",
              "        [[ 7,  8,  9],\n",
              "         [10, 11, 12]],\n",
              " \n",
              "        [[13, 14, 15],\n",
              "         [16, 17, 18]]], dtype=int32)>)"
            ]
          },
          "execution_count": 2,
          "metadata": {},
          "output_type": "execute_result"
        }
      ],
      "source": [
        "x = tf.constant(np.random.randint(10))\n",
        "\n",
        "y = tf.constant(rng.random((3,3)))\n",
        "\n",
        "z = tf.constant([[\n",
        "    [i for i in range(1, 4)], [i for i in range(4, 7)],\n",
        "],\n",
        "     [\n",
        "         [i for i in range(7, 10)], [i for i in range(10, 13)]\n",
        "     ],\n",
        "     [\n",
        "         [i for i in range(13, 16)], [i for i in range(16, 19)]\n",
        "     ]\n",
        "])\n",
        "\n",
        "x, y, z"
      ]
    },
    {
      "cell_type": "markdown",
      "metadata": {
        "id": "HIg1bvtUtTCK"
      },
      "source": [
        "### Creating **changeable** tensors with `tf.Variable()`"
      ]
    },
    {
      "cell_type": "code",
      "execution_count": 3,
      "metadata": {
        "id": "7AvfYtTyrDnU"
      },
      "outputs": [
        {
          "name": "stdout",
          "output_type": "stream",
          "text": [
            "Before changes :\n",
            "<tf.Variable 'Variable:0' shape=(2, 2) dtype=int32, numpy=\n",
            "array([[2, 3],\n",
            "       [4, 5]], dtype=int32)>\n",
            "\n",
            "After changes :\n",
            "<tf.Variable 'Variable:0' shape=(2, 2) dtype=int32, numpy=\n",
            "array([[2, 3],\n",
            "       [6, 5]], dtype=int32)>\n",
            "\n"
          ]
        }
      ],
      "source": [
        "a = tf.Variable([[2, 3], [4, 5]])\n",
        "\n",
        "print(f\"Before changes :\\n{a}\\n\")\n",
        "\n",
        "a[1, 0].assign(6)\n",
        "\n",
        "print(f\"After changes :\\n{a}\\n\")"
      ]
    },
    {
      "cell_type": "markdown",
      "metadata": {
        "id": "XkJPQJBpvOpV"
      },
      "source": [
        "### Creating **random** tensors with `tf.random.Generator.from_seed()`"
      ]
    },
    {
      "cell_type": "code",
      "execution_count": 4,
      "metadata": {
        "id": "neHgGfySvtzz"
      },
      "outputs": [
        {
          "data": {
            "text/plain": [
              "(<tf.Tensor: shape=(2, 3), dtype=bool, numpy=\n",
              " array([[ True,  True,  True],\n",
              "        [ True,  True,  True]])>,\n",
              " <tf.Tensor: shape=(2, 3), dtype=bool, numpy=\n",
              " array([[False, False, False],\n",
              "        [False, False, False]])>)"
            ]
          },
          "execution_count": 4,
          "metadata": {},
          "output_type": "execute_result"
        }
      ],
      "source": [
        "# Generator object for creating random tensors ...\n",
        "rg1 = tf.random.Generator.from_seed(42)\n",
        "rg2 = tf.random.Generator.from_seed(42)\n",
        "\n",
        "rg3 = tf.random.Generator.from_seed(27)\n",
        "\n",
        "# Output values from a NORMAL DISTRIBUTION ...\n",
        "r1 = rg1.normal(shape=[2, 3])\n",
        "r2 = rg2.normal(shape=[2, 3])\n",
        "\n",
        "r3 = rg3.normal(shape=[2, 3])\n",
        "\n",
        "r1 == r2, r1 == r3"
      ]
    },
    {
      "cell_type": "markdown",
      "metadata": {
        "id": "cYK5X0uLxoos"
      },
      "source": [
        "### **Shuffling** the order\n",
        "> Keep in mind the **Global** and **Operation**-level seeds."
      ]
    },
    {
      "cell_type": "code",
      "execution_count": 5,
      "metadata": {
        "id": "skIyHGdKxtPj"
      },
      "outputs": [
        {
          "data": {
            "text/plain": [
              "array([[12, 24],\n",
              "       [23, 45],\n",
              "       [34, 90]], dtype=int32)"
            ]
          },
          "execution_count": 5,
          "metadata": {},
          "output_type": "execute_result"
        }
      ],
      "source": [
        "sample = tf.constant([[12, 24],\n",
        "                      [23, 45],\n",
        "                      [34, 90]])\n",
        "\n",
        "# for generating REPRODUCIBLE results ...\n",
        "# tf.random.set_seed(21)\n",
        "\n",
        "sample = tf.random.shuffle(sample, seed=21)\n",
        "\n",
        "sample.numpy()"
      ]
    },
    {
      "cell_type": "markdown",
      "metadata": {
        "id": "LF88kO_bAE-v"
      },
      "source": [
        "### **Other** ways for creation"
      ]
    },
    {
      "cell_type": "code",
      "execution_count": 6,
      "metadata": {
        "id": "gil5EiE1--TN"
      },
      "outputs": [
        {
          "data": {
            "text/plain": [
              "(array([ 1,  2,  3,  4,  5,  6,  7,  8,  9, 10, 11, 12, 13, 14, 15, 16, 17,\n",
              "        18, 19, 20, 21, 22, 23, 24], dtype=int32),\n",
              " <tf.Tensor: shape=(2, 3, 4), dtype=int32, numpy=\n",
              " array([[[ 1,  2,  3,  4],\n",
              "         [ 5,  6,  7,  8],\n",
              "         [ 9, 10, 11, 12]],\n",
              " \n",
              "        [[13, 14, 15, 16],\n",
              "         [17, 18, 19, 20],\n",
              "         [21, 22, 23, 24]]], dtype=int32)>,\n",
              " 3)"
            ]
          },
          "execution_count": 6,
          "metadata": {},
          "output_type": "execute_result"
        }
      ],
      "source": [
        "# making a 3-D Tensor from a 1-D Numpy Array ...\n",
        "arr = np.arange(1, 25, dtype=np.int32)\n",
        "tensor = tf.constant(arr, shape=(2, 3, 4))      #  2*3*4 = 24 i.e. make sure that the number of elements match!\n",
        "\n",
        "arr, tensor, tensor.ndim"
      ]
    },
    {
      "cell_type": "markdown",
      "metadata": {
        "id": "FrxueCNOCc8S"
      },
      "source": [
        "### Fetching **information** from a tensor"
      ]
    },
    {
      "cell_type": "code",
      "execution_count": 7,
      "metadata": {
        "id": "oMRgUjcaCinS"
      },
      "outputs": [
        {
          "name": "stdout",
          "output_type": "stream",
          "text": [
            "Shape of the tensor\t:\t(2, 3, 4, 5)\n",
            "Rank of the tensor\t:\t4\n",
            "Size of the tensor\t:\t120\n",
            "Datatype of the tensor\t:\t<dtype: 'float32'>\n"
          ]
        }
      ],
      "source": [
        "rank_4 = tf.ones(shape=[2,3,4,5])\n",
        "print(f\"Shape of the tensor\\t:\\t{rank_4.shape}\\nRank of the tensor\\t:\\t{rank_4.ndim}\\nSize of the tensor\\t:\\t{tf.size(rank_4).numpy()}\\nDatatype of the tensor\\t:\\t{rank_4.dtype}\")"
      ]
    },
    {
      "cell_type": "markdown",
      "metadata": {
        "id": "DrTVrDA6QwOI"
      },
      "source": [
        "### **Indexing** and **Expanding** of tensors\n"
      ]
    },
    {
      "cell_type": "markdown",
      "metadata": {
        "id": "fZD0K05fWeXY"
      },
      "source": [
        "#### _Indexing_"
      ]
    },
    {
      "cell_type": "code",
      "execution_count": 8,
      "metadata": {
        "id": "-ZBLKRrgQkKv"
      },
      "outputs": [
        {
          "data": {
            "text/plain": [
              "<tf.Tensor: shape=(1, 3, 1), dtype=int32, numpy=\n",
              "array([[[1],\n",
              "        [5],\n",
              "        [9]]], dtype=int32)>"
            ]
          },
          "execution_count": 8,
          "metadata": {},
          "output_type": "execute_result"
        }
      ],
      "source": [
        "# First 2 elements of each dimension\n",
        "first_2 = tensor[:2, :2, :2]\n",
        "first_except_final = tensor[:1, :1, :]\n",
        "first_except_2nd_last = tensor[:1, :, :1]\n",
        "\n",
        "# first_2\n",
        "# first_except_final\n",
        "first_except_2nd_last"
      ]
    },
    {
      "cell_type": "markdown",
      "metadata": {
        "id": "0LitSt6lVmj5"
      },
      "source": [
        "#### _Expanding_"
      ]
    },
    {
      "cell_type": "code",
      "execution_count": 9,
      "metadata": {
        "id": "VTrNli6mVr3z"
      },
      "outputs": [
        {
          "data": {
            "text/plain": [
              "(<tf.Tensor: shape=(2, 3, 4), dtype=int32, numpy=\n",
              " array([[[ 1,  2,  3,  4],\n",
              "         [ 5,  6,  7,  8],\n",
              "         [ 9, 10, 11, 12]],\n",
              " \n",
              "        [[13, 14, 15, 16],\n",
              "         [17, 18, 19, 20],\n",
              "         [21, 22, 23, 24]]], dtype=int32)>,\n",
              " <tf.Tensor: shape=(2, 3, 4, 1), dtype=int32, numpy=\n",
              " array([[[[ 1],\n",
              "          [ 2],\n",
              "          [ 3],\n",
              "          [ 4]],\n",
              " \n",
              "         [[ 5],\n",
              "          [ 6],\n",
              "          [ 7],\n",
              "          [ 8]],\n",
              " \n",
              "         [[ 9],\n",
              "          [10],\n",
              "          [11],\n",
              "          [12]]],\n",
              " \n",
              " \n",
              "        [[[13],\n",
              "          [14],\n",
              "          [15],\n",
              "          [16]],\n",
              " \n",
              "         [[17],\n",
              "          [18],\n",
              "          [19],\n",
              "          [20]],\n",
              " \n",
              "         [[21],\n",
              "          [22],\n",
              "          [23],\n",
              "          [24]]]], dtype=int32)>)"
            ]
          },
          "execution_count": 9,
          "metadata": {},
          "output_type": "execute_result"
        }
      ],
      "source": [
        "# Last item of EACH row\n",
        "last = tensor[:2, :, -1]\n",
        "\n",
        "# Adding EXTRA dimension to the Rank 3 tensor ...\n",
        "tensor_ = tensor[..., tf.newaxis]\n",
        "\n",
        "# Alternatively ... expanding the nth axis ...\n",
        "tensor__ = tf.expand_dims(tensor, axis=-1)\n",
        "\n",
        "tensor, tensor__"
      ]
    },
    {
      "cell_type": "markdown",
      "metadata": {},
      "source": [
        "#### _Re-assigning values_"
      ]
    },
    {
      "cell_type": "code",
      "execution_count": 10,
      "metadata": {
        "id": "9AwrDLxqZa3q"
      },
      "outputs": [
        {
          "data": {
            "text/plain": [
              "array([[[23],\n",
              "        [24],\n",
              "        [25]],\n",
              "\n",
              "       [[26],\n",
              "        [27],\n",
              "        [28]]], dtype=int32)"
            ]
          },
          "execution_count": 10,
          "metadata": {},
          "output_type": "execute_result"
        }
      ],
      "source": [
        "example = np.arange(1, 7, dtype=np.int32)\n",
        "example = tf.constant(example, shape=(2, 3))\n",
        "example = tf.expand_dims(example, axis=-1)\n",
        "\n",
        "example_ = tf.Variable(example)\n",
        "example_[:, :, 0].assign([[23, 24, 25], [26, 27, 28]])\n",
        "\n",
        "example_.numpy()"
      ]
    },
    {
      "cell_type": "markdown",
      "metadata": {},
      "source": [
        "## Matrix **Multiplication**"
      ]
    },
    {
      "cell_type": "markdown",
      "metadata": {},
      "source": [
        "> #### For checking compatibility of Multiplication"
      ]
    },
    {
      "cell_type": "code",
      "execution_count": 11,
      "metadata": {},
      "outputs": [],
      "source": [
        "def check_order(m1, m2):\n",
        "    if m1.shape[1] == m2.shape[0]:\n",
        "        return True\n",
        "    return False"
      ]
    },
    {
      "cell_type": "code",
      "execution_count": 12,
      "metadata": {},
      "outputs": [
        {
          "name": "stdout",
          "output_type": "stream",
          "text": [
            "[[1 2 1]\n",
            " [0 1 0]\n",
            " [2 3 4]] \n",
            "\n",
            " [[2 7]\n",
            " [5 1]\n",
            " [6 8]] \n",
            "\n",
            " [[18 17]\n",
            " [ 5  1]\n",
            " [43 49]]\n"
          ]
        }
      ],
      "source": [
        "result_ = tf.constant([])\n",
        "\n",
        "m1 =  tf.constant([[1, 2, 1],\n",
        "                [0, 1, 0],\n",
        "                [2, 3, 4]])\n",
        "\n",
        "m2 = tf.constant([[2, 5],\n",
        "                  [6, 7],\n",
        "                  [1, 8]])\n",
        "\n",
        "m2 = tf.reshape(m2, shape=(2, 3))\n",
        "m2 = tf.transpose(m2)\n",
        "\n",
        "if check_order(m1, m2):\n",
        "    result_ = tf.matmul(m1, m2)\n",
        "    print(m1.numpy(), \"\\n\\n\", m2.numpy(), \"\\n\\n\", result_.numpy())\n",
        "else:\n",
        "    print(\"Incompatible shapes!\")"
      ]
    },
    {
      "cell_type": "markdown",
      "metadata": {},
      "source": [
        "### **Dot** Product\n",
        "\n",
        "> #### `axes` probably corresponds to the **degree of correlation**"
      ]
    },
    {
      "cell_type": "code",
      "execution_count": 13,
      "metadata": {},
      "outputs": [
        {
          "data": {
            "text/plain": [
              "(<tf.Tensor: shape=(2, 2, 2, 4), dtype=int32, numpy=\n",
              " array([[[[ 7,  8, 12, 15],\n",
              "          [ 9, 10, 13, 16]],\n",
              " \n",
              "         [[14, 16, 24, 30],\n",
              "          [18, 20, 26, 32]]],\n",
              " \n",
              " \n",
              "        [[[28, 32, 48, 60],\n",
              "          [36, 40, 52, 64]],\n",
              " \n",
              "         [[35, 40, 60, 75],\n",
              "          [45, 50, 65, 80]]]], dtype=int32)>,\n",
              " <tf.Tensor: shape=(2, 4), dtype=int32, numpy=\n",
              " array([[ 25,  28,  38,  47],\n",
              "        [ 73,  82, 113, 140]], dtype=int32)>)"
            ]
          },
          "execution_count": 13,
          "metadata": {},
          "output_type": "execute_result"
        }
      ],
      "source": [
        "m_1 = tf.constant([[1, 2], [4, 5]])\n",
        "\n",
        "m_2 = tf.constant([[7, 8, 12, 15], [9, 10, 13, 16]])\n",
        "\n",
        "ax_0 = tf.tensordot(m_1, m_2, axes=0)\n",
        "ax_1 = tf.tensordot(m_1, m_2, axes=1)\n",
        "\n",
        "ax_0, ax_1"
      ]
    },
    {
      "cell_type": "markdown",
      "metadata": {},
      "source": [
        "### Changing **Datatypes**"
      ]
    },
    {
      "cell_type": "code",
      "execution_count": 14,
      "metadata": {},
      "outputs": [
        {
          "data": {
            "text/plain": [
              "(array([10., 20.], dtype=float32), array([10, 90], dtype=int32))"
            ]
          },
          "execution_count": 14,
          "metadata": {},
          "output_type": "execute_result"
        }
      ],
      "source": [
        "tf1 = tf.cast(tf.constant([10, 20]), dtype=tf.float32)\n",
        "tf2 = tf.cast(tf.constant([10.7, 90.823]), dtype=tf.int32)\n",
        "\n",
        "tf1.numpy(), tf2.numpy()"
      ]
    },
    {
      "cell_type": "markdown",
      "metadata": {},
      "source": [
        "## **Aggregation** Operations\n",
        " - #### Minimum"
      ]
    },
    {
      "cell_type": "code",
      "execution_count": 15,
      "metadata": {},
      "outputs": [
        {
          "name": "stdout",
          "output_type": "stream",
          "text": [
            "At index 1, the value is 7.\n",
            "Minimum value in [50  7 53 24 85 36 74 58 26 28] = 7\n"
          ]
        }
      ],
      "source": [
        "ex1 = tf.constant(np.random.randint(1, 100, size=10))\n",
        "print(f\"At index {tf.argmin(ex1).numpy()}, the value is {ex1.numpy()[tf.argmin(ex1).numpy()]}.\")\n",
        "print(f\"Minimum value in {ex1.numpy()} = {tf.reduce_min(ex1).numpy()}\")"
      ]
    },
    {
      "cell_type": "markdown",
      "metadata": {},
      "source": [
        "- #### Maximum"
      ]
    },
    {
      "cell_type": "code",
      "execution_count": 16,
      "metadata": {},
      "outputs": [
        {
          "name": "stdout",
          "output_type": "stream",
          "text": [
            "At index 4, the value is 85.\n",
            "Maximum value in [50  7 53 24 85 36 74 58 26 28] = 85\n"
          ]
        }
      ],
      "source": [
        "print(f\"At index {tf.argmax(ex1).numpy()}, the value is {ex1.numpy()[tf.argmax(ex1).numpy()]}.\")\n",
        "print(f\"Maximum value in {ex1.numpy()} = {tf.reduce_max(ex1).numpy()}\")"
      ]
    },
    {
      "cell_type": "markdown",
      "metadata": {},
      "source": [
        "- #### Mean"
      ]
    },
    {
      "cell_type": "code",
      "execution_count": 17,
      "metadata": {},
      "outputs": [
        {
          "name": "stdout",
          "output_type": "stream",
          "text": [
            "Mean value in [50  7 53 24 85 36 74 58 26 28] = 44\n"
          ]
        }
      ],
      "source": [
        "print(f\"Mean value in {ex1.numpy()} = {tf.reduce_mean(ex1).numpy()}\")"
      ]
    },
    {
      "cell_type": "markdown",
      "metadata": {},
      "source": [
        "- #### Sum"
      ]
    },
    {
      "cell_type": "code",
      "execution_count": 18,
      "metadata": {},
      "outputs": [
        {
          "name": "stdout",
          "output_type": "stream",
          "text": [
            "Sum of values in [50  7 53 24 85 36 74 58 26 28] = 441\n"
          ]
        }
      ],
      "source": [
        "print(f\"Sum of values in {ex1.numpy()} = {tf.reduce_sum(ex1).numpy()}\")"
      ]
    },
    {
      "cell_type": "markdown",
      "metadata": {},
      "source": [
        "- #### **Standard Deviation** and **Variance**\n",
        "You'll need to **typecast** the vector values to **float** dtype using the `tf.math.reduce_std()` and `tf.math.reduce_variance()` functions."
      ]
    },
    {
      "cell_type": "code",
      "execution_count": 19,
      "metadata": {},
      "outputs": [
        {
          "name": "stdout",
          "output_type": "stream",
          "text": [
            "Standard Deviation = 23.04 and Variance = 530.69, such that (23.04)^2 = 530.69 is False.\n"
          ]
        }
      ],
      "source": [
        "std = tf.math.reduce_std(tf.cast(ex1, dtype=tf.float32)).numpy()\n",
        "var = tf.math.reduce_variance(tf.cast(ex1, dtype=tf.float32)).numpy()\n",
        "\n",
        "print(f\"Standard Deviation = {std:.2f} and Variance = {var:.2f}, such that ({std:.2f})^2 = {var:.2f} is {std**2 == var}.\")"
      ]
    },
    {
      "cell_type": "markdown",
      "metadata": {},
      "source": [
        "Tensorflow **Probability** is needed for calculating **variance**."
      ]
    },
    {
      "cell_type": "code",
      "execution_count": 20,
      "metadata": {},
      "outputs": [
        {
          "name": "stdout",
          "output_type": "stream",
          "text": [
            "Variance = 530\n"
          ]
        }
      ],
      "source": [
        "print(f\"Variance = {tfp.stats.variance(ex1).numpy()}\")"
      ]
    },
    {
      "cell_type": "markdown",
      "metadata": {},
      "source": [
        "- ### Finding **positional** _minimum_ and _maximum_ values in a tensor\n",
        "> ##### `axis = 1` implies along the ROWS\n",
        "> ##### `axis = 0` implies along the COLS\n"
      ]
    },
    {
      "cell_type": "code",
      "execution_count": 21,
      "metadata": {},
      "outputs": [
        {
          "name": "stdout",
          "output_type": "stream",
          "text": [
            "[[0.42663002 0.95090914 0.7754806  0.7937598  0.50849986]\n",
            " [0.9404652  0.78537667 0.06498516 0.6868875  0.7994733 ]\n",
            " [0.13043523 0.55487096 0.7927698  0.34447002 0.37951756]\n",
            " [0.7478161  0.12829113 0.17944527 0.40939128 0.17074227]\n",
            " [0.08954501 0.6504321  0.4854176  0.538273   0.02675951]\n",
            " [0.5285536  0.42530107 0.67171764 0.64924705 0.13024127]\n",
            " [0.40005922 0.30875564 0.8012408  0.6852087  0.03802454]\n",
            " [0.78770757 0.10308468 0.9330081  0.783924   0.15490389]\n",
            " [0.4903667  0.97904086 0.6646495  0.99244666 0.05077875]\n",
            " [0.6777401  0.2942425  0.41049325 0.49719965 0.99132764]]\n",
            "\n",
            "Row #1\t-\tMaximum value : 0.9509091377258301\tMinimum value : 0.42663002014160156\n",
            "Row #2\t-\tMaximum value : 0.9404652118682861\tMinimum value : 0.06498515605926514\n",
            "Row #3\t-\tMaximum value : 0.7927697896957397\tMinimum value : 0.13043522834777832\n",
            "Row #4\t-\tMaximum value : 0.7478160858154297\tMinimum value : 0.12829113006591797\n",
            "Row #5\t-\tMaximum value : 0.6504321098327637\tMinimum value : 0.02675950527191162\n",
            "Row #6\t-\tMaximum value : 0.671717643737793\tMinimum value : 0.1302412748336792\n",
            "Row #7\t-\tMaximum value : 0.8012408018112183\tMinimum value : 0.03802454471588135\n",
            "Row #8\t-\tMaximum value : 0.933008074760437\tMinimum value : 0.10308468341827393\n",
            "Row #9\t-\tMaximum value : 0.9924466609954834\tMinimum value : 0.050778746604919434\n",
            "Row #10\t-\tMaximum value : 0.9913276433944702\tMinimum value : 0.2942425012588501\n",
            "\n",
            "Column #1\t-\tMaximum value : 0.9404652118682861\tMinimum value : 0.08954501152038574\n",
            "Column #2\t-\tMaximum value : 0.9790408611297607\tMinimum value : 0.10308468341827393\n",
            "Column #3\t-\tMaximum value : 0.933008074760437\tMinimum value : 0.06498515605926514\n",
            "Column #4\t-\tMaximum value : 0.9924466609954834\tMinimum value : 0.3444700241088867\n",
            "Column #5\t-\tMaximum value : 0.9913276433944702\tMinimum value : 0.02675950527191162\n"
          ]
        }
      ],
      "source": [
        "F = rg3.uniform(shape=[10, 5])\n",
        "\n",
        "print(F.numpy(),end='\\n\\n')\n",
        "\n",
        "for i in range(F.shape[0]):\n",
        "    print(f\"Row #{i+1}\\t-\\tMaximum value : {F.numpy()[i][tf.argmax(F, axis=1).numpy()[i]]}\\tMinimum value : {F.numpy()[i][tf.argmin(F, axis=1).numpy()[i]]}\")\n",
        "\n",
        "print(end='\\n')\n",
        "\n",
        "for j in range(F.shape[1]):\n",
        "    print(f\"Column #{j+1}\\t-\\tMaximum value : {F.numpy()[tf.argmax(F, axis=0).numpy()[j]][j]}\\tMinimum value : {F.numpy()[tf.argmin(F, axis=0).numpy()[j]][j]}\")\n"
      ]
    },
    {
      "cell_type": "markdown",
      "metadata": {},
      "source": [
        "## **Squeezing** Tensors\n",
        "> #### Removing all the 1-dimensional axes"
      ]
    },
    {
      "cell_type": "code",
      "execution_count": 22,
      "metadata": {},
      "outputs": [
        {
          "name": "stdout",
          "output_type": "stream",
          "text": [
            "Before squeeze operation : (1, 1, 1, 1, 2, 2)\n",
            "After squeeze operation  : (2, 2)\n"
          ]
        }
      ],
      "source": [
        "tf.random.set_seed(27)                                                      # for the reproducible results\n",
        "S = tf.constant(tf.random.uniform(shape=[2, 2]), shape=(1,1,1,1,2,2))       # adding 1-dimensional axes using shape attribute\n",
        "S_squeezed = tf.squeeze(S)                                                  # removing 1-dimensional axes from the tensor\n",
        "\n",
        "print(f\"Before squeeze operation : {S.shape}\\nAfter squeeze operation  : {S_squeezed.shape}\")"
      ]
    },
    {
      "cell_type": "markdown",
      "metadata": {},
      "source": [
        "## **One-Hot** Encoding\n",
        "\n",
        "#### For example, consider the following matrix ...\n",
        "\n",
        "| Red   | Green | Blue |\n",
        "| ----- | ----- | ---- |\n",
        "| 0     | 0     | 1    |\n",
        "| 0     | 1     | 0    |\n",
        "| 1     | 0     | 0    |\n",
        "\n",
        "<br>\n",
        "\n",
        "> Red corresponds to <0, 0, 1><br>\n",
        "> Green corresponds to <0, 1, 0><br>\n",
        "> Blue corresponds to <1, 0, 0><br>"
      ]
    },
    {
      "cell_type": "code",
      "execution_count": 36,
      "metadata": {},
      "outputs": [
        {
          "data": {
            "text/plain": [
              "array([[1., 0., 0., 0.],\n",
              "       [0., 1., 0., 0.],\n",
              "       [0., 0., 1., 0.],\n",
              "       [0., 0., 0., 1.]], dtype=float32)"
            ]
          },
          "execution_count": 36,
          "metadata": {},
          "output_type": "execute_result"
        }
      ],
      "source": [
        "indices = [0, 1, 2, 3]\n",
        "O = tf.one_hot(indices, depth=4)\n",
        "\n",
        "O.numpy()"
      ]
    },
    {
      "cell_type": "markdown",
      "metadata": {},
      "source": [
        "### Adding **custom** __on/off__ values"
      ]
    },
    {
      "cell_type": "code",
      "execution_count": 44,
      "metadata": {},
      "outputs": [
        {
          "data": {
            "text/plain": [
              "array([[b'Yes', b'No', b'No'],\n",
              "       [b'No', b'Yes', b'No'],\n",
              "       [b'No', b'No', b'Yes'],\n",
              "       [b'No', b'No', b'No']], dtype=object)"
            ]
          },
          "execution_count": 44,
          "metadata": {},
          "output_type": "execute_result"
        }
      ],
      "source": [
        "custom_O = tf.one_hot(indices, on_value=\"Yes\", off_value=\"No\", depth=3, dtype=tf.string)\n",
        "custom_O.numpy()"
      ]
    },
    {
      "cell_type": "markdown",
      "metadata": {},
      "source": [
        "## Other **math operations**\n",
        "- Squaring\n",
        "- Square Root, which needs the typecasting of the tensor to `tf.float32`\n",
        "- Log"
      ]
    },
    {
      "cell_type": "code",
      "execution_count": 55,
      "metadata": {},
      "outputs": [
        {
          "name": "stdout",
          "output_type": "stream",
          "text": [
            "Given tensor\t:\t[1 2 3 4 5 6 7 8 9]\n",
            "Squared tensor\t:\t[ 1  4  9 16 25 36 49 64 81]\n",
            "\n",
            "Square Root tensor\t:\t[1.        1.4142135 1.7320508 2.        2.236068  2.4494898 2.6457512\n",
            " 2.828427  3.       ]\n",
            "\n",
            "Natural log tensor\t:\t[0.        0.6931472 1.0986123 1.3862944 1.609438  1.7917595 1.9459102\n",
            " 2.0794415 2.1972246]\n",
            "\n",
            "\n"
          ]
        }
      ],
      "source": [
        "Q = tf.range(1, 10)         # Sample tensor\n",
        "\n",
        "sqr = tf.square(Q).numpy()\n",
        "sqrt = tf.math.sqrt(tf.cast(Q, dtype=tf.float32)).numpy()\n",
        "log = tf.math.log(tf.cast(Q, dtype=tf.float32)).numpy()\n",
        "\n",
        "print(f\"Given tensor\\t:\\t{Q}\\nSquared tensor\\t:\\t{sqr}\\n\\nSquare Root tensor\\t:\\t{sqrt}\\n\\nNatural log tensor\\t:\\t{log}\\n\\n\")"
      ]
    },
    {
      "cell_type": "markdown",
      "metadata": {},
      "source": [
        "## **Concatenation** operation"
      ]
    },
    {
      "cell_type": "code",
      "execution_count": 61,
      "metadata": {},
      "outputs": [
        {
          "name": "stdout",
          "output_type": "stream",
          "text": [
            "Concatentation along the COLUMNS :\n",
            "\n",
            "[[1 2 3]\n",
            " [4 5 6]\n",
            " [7 8 9]\n",
            " [1 2 3]\n",
            " [4 5 6]\n",
            " [7 8 9]]\n",
            "\n",
            "Concatentation along the ROWS :\n",
            "\n",
            "[[1 2 3 1 2 3]\n",
            " [4 5 6 4 5 6]\n",
            " [7 8 9 7 8 9]]\n"
          ]
        }
      ],
      "source": [
        "Q = tf.reshape(Q, shape=(3,3))\n",
        "\n",
        "concat_along_rows = tf.concat([Q, Q], axis=1)\n",
        "concat_along_cols = tf.concat([Q, Q], axis=0)\n",
        "\n",
        "print(f\"Concatentation along the COLUMNS :\\n\\n{concat_along_cols.numpy()}\\n\\nConcatentation along the ROWS :\\n\\n{concat_along_rows.numpy()}\")"
      ]
    }
  ],
  "metadata": {
    "colab": {
      "authorship_tag": "ABX9TyP4GKHG/lQsaWHsv5naYLtU",
      "collapsed_sections": [
        "FrxueCNOCc8S",
        "fZD0K05fWeXY"
      ],
      "include_colab_link": true,
      "provenance": []
    },
    "kernelspec": {
      "display_name": "Python 3",
      "name": "python3"
    },
    "language_info": {
      "codemirror_mode": {
        "name": "ipython",
        "version": 3
      },
      "file_extension": ".py",
      "mimetype": "text/x-python",
      "name": "python",
      "nbconvert_exporter": "python",
      "pygments_lexer": "ipython3",
      "version": "3.10.13"
    }
  },
  "nbformat": 4,
  "nbformat_minor": 0
}
