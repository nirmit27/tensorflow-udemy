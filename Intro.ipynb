{
  "cells": [
    {
      "cell_type": "markdown",
      "metadata": {
        "id": "036YD6FZsWhL"
      },
      "source": [
        "# Introduction to <b>TensorFlow</b>&nbsp;&nbsp;🤖\n",
        "\n",
        "> When in **doubt**, **code** it out."
      ]
    },
    {
      "cell_type": "markdown",
      "metadata": {
        "colab_type": "text",
        "id": "view-in-github"
      },
      "source": [
        "<a href=\"https://colab.research.google.com/github/nirmit27/tensorflow-udemy/blob/main/Intro.ipynb\" target=\"_parent\"><img src=\"https://colab.research.google.com/assets/colab-badge.svg\" alt=\"Open In Colab\"/></a>"
      ]
    },
    {
      "cell_type": "code",
      "execution_count": null,
      "metadata": {
        "id": "nIPPF7tojORD"
      },
      "outputs": [],
      "source": [
        "import numpy as np\n",
        "import tensorflow as tf\n",
        "\n",
        "rng = np.random.default_rng(seed=27)\n",
        "\n",
        "tf.__version__"
      ]
    },
    {
      "cell_type": "markdown",
      "metadata": {
        "id": "OeT-PL3irsj4"
      },
      "source": [
        "### Creating **unchangeable** tensors with `tf.constant()`"
      ]
    },
    {
      "cell_type": "code",
      "execution_count": null,
      "metadata": {
        "id": "TyW_vYoun29I"
      },
      "outputs": [],
      "source": [
        "x = tf.constant(np.random.randint(10))\n",
        "\n",
        "y = tf.constant(rng.random((3,3)))\n",
        "\n",
        "z = tf.constant([[\n",
        "    [i for i in range(1, 4)], [i for i in range(4, 7)],\n",
        "],\n",
        "     [\n",
        "         [i for i in range(7, 10)], [i for i in range(10, 13)]\n",
        "     ],\n",
        "     [\n",
        "         [i for i in range(13, 16)], [i for i in range(16, 19)]\n",
        "     ]\n",
        "])\n",
        "\n",
        "x, y, z"
      ]
    },
    {
      "cell_type": "markdown",
      "metadata": {
        "id": "HIg1bvtUtTCK"
      },
      "source": [
        "### Creating **changeable** tensors with `tf.Variable()`"
      ]
    },
    {
      "cell_type": "code",
      "execution_count": null,
      "metadata": {
        "id": "7AvfYtTyrDnU"
      },
      "outputs": [],
      "source": [
        "a = tf.Variable([[2, 3], [4, 5]])\n",
        "\n",
        "print(f\"Before changes :\\n{a}\\n\")\n",
        "\n",
        "a[1, 0].assign(6)\n",
        "\n",
        "print(f\"After changes :\\n{a}\\n\")"
      ]
    },
    {
      "cell_type": "markdown",
      "metadata": {
        "id": "XkJPQJBpvOpV"
      },
      "source": [
        "### Creating **random** tensors with `tf.random.Generator.from_seed()`"
      ]
    },
    {
      "cell_type": "code",
      "execution_count": null,
      "metadata": {
        "id": "neHgGfySvtzz"
      },
      "outputs": [],
      "source": [
        "# Generator object for creating random tensors ...\n",
        "rg1 = tf.random.Generator.from_seed(42)\n",
        "rg2 = tf.random.Generator.from_seed(42)\n",
        "\n",
        "rg3 = tf.random.Generator.from_seed(27)\n",
        "\n",
        "# Output values from a NORMAL DISTRIBUTION ...\n",
        "r1 = rg1.normal(shape=[2, 3])\n",
        "r2 = rg2.normal(shape=[2, 3])\n",
        "\n",
        "r3 = rg3.normal(shape=[2, 3])\n",
        "\n",
        "r1 == r2, r1 == r3"
      ]
    },
    {
      "cell_type": "markdown",
      "metadata": {
        "id": "cYK5X0uLxoos"
      },
      "source": [
        "### **Shuffling** the order\n",
        "> Keep in mind the **Global** and **Operation**-level seeds."
      ]
    },
    {
      "cell_type": "code",
      "execution_count": null,
      "metadata": {
        "id": "skIyHGdKxtPj"
      },
      "outputs": [],
      "source": [
        "sample = tf.constant([[12, 24],\n",
        "                      [23, 45],\n",
        "                      [34, 90]])\n",
        "\n",
        "# for generating REPRODUCIBLE results ...\n",
        "# tf.random.set_seed(21)\n",
        "\n",
        "sample = tf.random.shuffle(sample, seed=21)\n",
        "\n",
        "sample.numpy()"
      ]
    },
    {
      "cell_type": "markdown",
      "metadata": {
        "id": "LF88kO_bAE-v"
      },
      "source": [
        "### **Other** ways for creation"
      ]
    },
    {
      "cell_type": "code",
      "execution_count": null,
      "metadata": {
        "id": "gil5EiE1--TN"
      },
      "outputs": [],
      "source": [
        "# making a 3-D Tensor from a 1-D Numpy Array ...\n",
        "arr = np.arange(1, 25, dtype=np.int32)\n",
        "tensor = tf.constant(arr, shape=(2, 3, 4))      #  2*3*4 = 24 i.e. make sure that the number of elements match!\n",
        "\n",
        "arr, tensor, tensor.ndim"
      ]
    },
    {
      "cell_type": "markdown",
      "metadata": {
        "id": "FrxueCNOCc8S"
      },
      "source": [
        "### Fetching **information** from a tensor"
      ]
    },
    {
      "cell_type": "code",
      "execution_count": null,
      "metadata": {
        "id": "oMRgUjcaCinS"
      },
      "outputs": [],
      "source": [
        "rank_4 = tf.ones(shape=[2,3,4,5])\n",
        "print(f\"Shape of the tensor\\t:\\t{rank_4.shape}\\nRank of the tensor\\t:\\t{rank_4.ndim}\\nSize of the tensor\\t:\\t{tf.size(rank_4).numpy()}\\nDatatype of the tensor\\t:\\t{rank_4.dtype}\")"
      ]
    },
    {
      "cell_type": "markdown",
      "metadata": {
        "id": "DrTVrDA6QwOI"
      },
      "source": [
        "### **Indexing** and **Expanding** of tensors\n"
      ]
    },
    {
      "cell_type": "markdown",
      "metadata": {
        "id": "fZD0K05fWeXY"
      },
      "source": [
        "#### _Indexing_"
      ]
    },
    {
      "cell_type": "code",
      "execution_count": null,
      "metadata": {
        "id": "-ZBLKRrgQkKv"
      },
      "outputs": [],
      "source": [
        "# First 2 elements of each dimension\n",
        "first_2 = tensor[:2, :2, :2]\n",
        "first_except_final = tensor[:1, :1, :]\n",
        "first_except_2nd_last = tensor[:1, :, :1]\n",
        "\n",
        "# first_2\n",
        "# first_except_final\n",
        "first_except_2nd_last"
      ]
    },
    {
      "cell_type": "markdown",
      "metadata": {
        "id": "0LitSt6lVmj5"
      },
      "source": [
        "#### _Expanding_"
      ]
    },
    {
      "cell_type": "code",
      "execution_count": null,
      "metadata": {
        "id": "VTrNli6mVr3z"
      },
      "outputs": [],
      "source": [
        "# Last item of EACH row\n",
        "last = tensor[:2, :, -1]\n",
        "\n",
        "# Adding EXTRA dimension to the Rank 3 tensor ...\n",
        "tensor_ = tensor[..., tf.newaxis]\n",
        "\n",
        "# Alternatively ... expanding the nth axis ...\n",
        "tensor__ = tf.expand_dims(tensor, axis=-1)\n",
        "\n",
        "tensor, tensor__"
      ]
    },
    {
      "cell_type": "code",
      "execution_count": null,
      "metadata": {
        "id": "9AwrDLxqZa3q"
      },
      "outputs": [],
      "source": [
        "example = np.arange(1, 7, dtype=np.int32)\n",
        "example = tf.constant(example, shape=(2, 3))\n",
        "\n",
        "tf.expand_dims(example, axis=-1)"
      ]
    }
  ],
  "metadata": {
    "colab": {
      "authorship_tag": "ABX9TyP4GKHG/lQsaWHsv5naYLtU",
      "collapsed_sections": [
        "FrxueCNOCc8S",
        "fZD0K05fWeXY"
      ],
      "include_colab_link": true,
      "provenance": []
    },
    "kernelspec": {
      "display_name": "Python 3",
      "name": "python3"
    },
    "language_info": {
      "name": "python"
    }
  },
  "nbformat": 4,
  "nbformat_minor": 0
}
