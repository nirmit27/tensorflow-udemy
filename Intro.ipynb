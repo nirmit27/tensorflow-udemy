{
  "cells": [
    {
      "cell_type": "markdown",
      "metadata": {
        "colab_type": "text",
        "id": "view-in-github"
      },
      "source": [
        "<a href=\"https://colab.research.google.com/github/nirmit27/tensorflow-udemy/blob/main/Intro.ipynb\" target=\"_parent\"><img src=\"https://colab.research.google.com/assets/colab-badge.svg\" alt=\"Open In Colab\"/></a>"
      ]
    },
    {
      "cell_type": "markdown",
      "metadata": {
        "id": "036YD6FZsWhL"
      },
      "source": [
        "# Introduction to <b>TensorFlow</b>&nbsp;&nbsp;🤖\n",
        "\n",
        "> When in **doubt**, **code** it out."
      ]
    },
    {
      "cell_type": "code",
      "execution_count": 63,
      "metadata": {
        "id": "nIPPF7tojORD"
      },
      "outputs": [
        {
          "data": {
            "text/plain": [
              "'2.15.0'"
            ]
          },
          "execution_count": 63,
          "metadata": {},
          "output_type": "execute_result"
        }
      ],
      "source": [
        "import numpy as np\n",
        "import tensorflow as tf\n",
        "import tensorflow_probability as tfp\n",
        "\n",
        "rng = np.random.default_rng(seed=27)\n",
        "\n",
        "tf.__version__"
      ]
    },
    {
      "cell_type": "markdown",
      "metadata": {
        "id": "OeT-PL3irsj4"
      },
      "source": [
        "### Creating **unchangeable** tensors with `tf.constant()`"
      ]
    },
    {
      "cell_type": "code",
      "execution_count": 3,
      "metadata": {
        "id": "TyW_vYoun29I"
      },
      "outputs": [
        {
          "data": {
            "text/plain": [
              "(<tf.Tensor: shape=(), dtype=int32, numpy=4>,\n",
              " <tf.Tensor: shape=(3, 3), dtype=float64, numpy=\n",
              " array([[0.69773622, 0.31381427, 0.1211971 ],\n",
              "        [0.32359152, 0.93121187, 0.78966731],\n",
              "        [0.01001912, 0.19893322, 0.29311369]])>,\n",
              " <tf.Tensor: shape=(3, 2, 3), dtype=int32, numpy=\n",
              " array([[[ 1,  2,  3],\n",
              "         [ 4,  5,  6]],\n",
              " \n",
              "        [[ 7,  8,  9],\n",
              "         [10, 11, 12]],\n",
              " \n",
              "        [[13, 14, 15],\n",
              "         [16, 17, 18]]], dtype=int32)>)"
            ]
          },
          "execution_count": 3,
          "metadata": {},
          "output_type": "execute_result"
        }
      ],
      "source": [
        "x = tf.constant(np.random.randint(10))\n",
        "\n",
        "y = tf.constant(rng.random((3,3)))\n",
        "\n",
        "z = tf.constant([[\n",
        "    [i for i in range(1, 4)], [i for i in range(4, 7)],\n",
        "],\n",
        "     [\n",
        "         [i for i in range(7, 10)], [i for i in range(10, 13)]\n",
        "     ],\n",
        "     [\n",
        "         [i for i in range(13, 16)], [i for i in range(16, 19)]\n",
        "     ]\n",
        "])\n",
        "\n",
        "x, y, z"
      ]
    },
    {
      "cell_type": "markdown",
      "metadata": {
        "id": "HIg1bvtUtTCK"
      },
      "source": [
        "### Creating **changeable** tensors with `tf.Variable()`"
      ]
    },
    {
      "cell_type": "code",
      "execution_count": 4,
      "metadata": {
        "id": "7AvfYtTyrDnU"
      },
      "outputs": [
        {
          "name": "stdout",
          "output_type": "stream",
          "text": [
            "Before changes :\n",
            "<tf.Variable 'Variable:0' shape=(2, 2) dtype=int32, numpy=\n",
            "array([[2, 3],\n",
            "       [4, 5]], dtype=int32)>\n",
            "\n",
            "After changes :\n",
            "<tf.Variable 'Variable:0' shape=(2, 2) dtype=int32, numpy=\n",
            "array([[2, 3],\n",
            "       [6, 5]], dtype=int32)>\n",
            "\n"
          ]
        }
      ],
      "source": [
        "a = tf.Variable([[2, 3], [4, 5]])\n",
        "\n",
        "print(f\"Before changes :\\n{a}\\n\")\n",
        "\n",
        "a[1, 0].assign(6)\n",
        "\n",
        "print(f\"After changes :\\n{a}\\n\")"
      ]
    },
    {
      "cell_type": "markdown",
      "metadata": {
        "id": "XkJPQJBpvOpV"
      },
      "source": [
        "### Creating **random** tensors with `tf.random.Generator.from_seed()`"
      ]
    },
    {
      "cell_type": "code",
      "execution_count": 5,
      "metadata": {
        "id": "neHgGfySvtzz"
      },
      "outputs": [
        {
          "data": {
            "text/plain": [
              "(<tf.Tensor: shape=(2, 3), dtype=bool, numpy=\n",
              " array([[ True,  True,  True],\n",
              "        [ True,  True,  True]])>,\n",
              " <tf.Tensor: shape=(2, 3), dtype=bool, numpy=\n",
              " array([[False, False, False],\n",
              "        [False, False, False]])>)"
            ]
          },
          "execution_count": 5,
          "metadata": {},
          "output_type": "execute_result"
        }
      ],
      "source": [
        "# Generator object for creating random tensors ...\n",
        "rg1 = tf.random.Generator.from_seed(42)\n",
        "rg2 = tf.random.Generator.from_seed(42)\n",
        "\n",
        "rg3 = tf.random.Generator.from_seed(27)\n",
        "\n",
        "# Output values from a NORMAL DISTRIBUTION ...\n",
        "r1 = rg1.normal(shape=[2, 3])\n",
        "r2 = rg2.normal(shape=[2, 3])\n",
        "\n",
        "r3 = rg3.normal(shape=[2, 3])\n",
        "\n",
        "r1 == r2, r1 == r3"
      ]
    },
    {
      "cell_type": "markdown",
      "metadata": {
        "id": "cYK5X0uLxoos"
      },
      "source": [
        "### **Shuffling** the order\n",
        "> Keep in mind the **Global** and **Operation**-level seeds."
      ]
    },
    {
      "cell_type": "code",
      "execution_count": 6,
      "metadata": {
        "id": "skIyHGdKxtPj"
      },
      "outputs": [
        {
          "data": {
            "text/plain": [
              "array([[12, 24],\n",
              "       [23, 45],\n",
              "       [34, 90]], dtype=int32)"
            ]
          },
          "execution_count": 6,
          "metadata": {},
          "output_type": "execute_result"
        }
      ],
      "source": [
        "sample = tf.constant([[12, 24],\n",
        "                      [23, 45],\n",
        "                      [34, 90]])\n",
        "\n",
        "# for generating REPRODUCIBLE results ...\n",
        "# tf.random.set_seed(21)\n",
        "\n",
        "sample = tf.random.shuffle(sample, seed=21)\n",
        "\n",
        "sample.numpy()"
      ]
    },
    {
      "cell_type": "markdown",
      "metadata": {
        "id": "LF88kO_bAE-v"
      },
      "source": [
        "### **Other** ways for creation"
      ]
    },
    {
      "cell_type": "code",
      "execution_count": 7,
      "metadata": {
        "id": "gil5EiE1--TN"
      },
      "outputs": [
        {
          "data": {
            "text/plain": [
              "(array([ 1,  2,  3,  4,  5,  6,  7,  8,  9, 10, 11, 12, 13, 14, 15, 16, 17,\n",
              "        18, 19, 20, 21, 22, 23, 24], dtype=int32),\n",
              " <tf.Tensor: shape=(2, 3, 4), dtype=int32, numpy=\n",
              " array([[[ 1,  2,  3,  4],\n",
              "         [ 5,  6,  7,  8],\n",
              "         [ 9, 10, 11, 12]],\n",
              " \n",
              "        [[13, 14, 15, 16],\n",
              "         [17, 18, 19, 20],\n",
              "         [21, 22, 23, 24]]], dtype=int32)>,\n",
              " 3)"
            ]
          },
          "execution_count": 7,
          "metadata": {},
          "output_type": "execute_result"
        }
      ],
      "source": [
        "# making a 3-D Tensor from a 1-D Numpy Array ...\n",
        "arr = np.arange(1, 25, dtype=np.int32)\n",
        "tensor = tf.constant(arr, shape=(2, 3, 4))      #  2*3*4 = 24 i.e. make sure that the number of elements match!\n",
        "\n",
        "arr, tensor, tensor.ndim"
      ]
    },
    {
      "cell_type": "markdown",
      "metadata": {
        "id": "FrxueCNOCc8S"
      },
      "source": [
        "### Fetching **information** from a tensor"
      ]
    },
    {
      "cell_type": "code",
      "execution_count": 8,
      "metadata": {
        "id": "oMRgUjcaCinS"
      },
      "outputs": [
        {
          "name": "stdout",
          "output_type": "stream",
          "text": [
            "Shape of the tensor\t:\t(2, 3, 4, 5)\n",
            "Rank of the tensor\t:\t4\n",
            "Size of the tensor\t:\t120\n",
            "Datatype of the tensor\t:\t<dtype: 'float32'>\n"
          ]
        }
      ],
      "source": [
        "rank_4 = tf.ones(shape=[2,3,4,5])\n",
        "print(f\"Shape of the tensor\\t:\\t{rank_4.shape}\\nRank of the tensor\\t:\\t{rank_4.ndim}\\nSize of the tensor\\t:\\t{tf.size(rank_4).numpy()}\\nDatatype of the tensor\\t:\\t{rank_4.dtype}\")"
      ]
    },
    {
      "cell_type": "markdown",
      "metadata": {
        "id": "DrTVrDA6QwOI"
      },
      "source": [
        "### **Indexing** and **Expanding** of tensors\n"
      ]
    },
    {
      "cell_type": "markdown",
      "metadata": {
        "id": "fZD0K05fWeXY"
      },
      "source": [
        "#### _Indexing_"
      ]
    },
    {
      "cell_type": "code",
      "execution_count": 9,
      "metadata": {
        "id": "-ZBLKRrgQkKv"
      },
      "outputs": [
        {
          "data": {
            "text/plain": [
              "<tf.Tensor: shape=(1, 3, 1), dtype=int32, numpy=\n",
              "array([[[1],\n",
              "        [5],\n",
              "        [9]]], dtype=int32)>"
            ]
          },
          "execution_count": 9,
          "metadata": {},
          "output_type": "execute_result"
        }
      ],
      "source": [
        "# First 2 elements of each dimension\n",
        "first_2 = tensor[:2, :2, :2]\n",
        "first_except_final = tensor[:1, :1, :]\n",
        "first_except_2nd_last = tensor[:1, :, :1]\n",
        "\n",
        "# first_2\n",
        "# first_except_final\n",
        "first_except_2nd_last"
      ]
    },
    {
      "cell_type": "markdown",
      "metadata": {
        "id": "0LitSt6lVmj5"
      },
      "source": [
        "#### _Expanding_"
      ]
    },
    {
      "cell_type": "code",
      "execution_count": 10,
      "metadata": {
        "id": "VTrNli6mVr3z"
      },
      "outputs": [
        {
          "data": {
            "text/plain": [
              "(<tf.Tensor: shape=(2, 3, 4), dtype=int32, numpy=\n",
              " array([[[ 1,  2,  3,  4],\n",
              "         [ 5,  6,  7,  8],\n",
              "         [ 9, 10, 11, 12]],\n",
              " \n",
              "        [[13, 14, 15, 16],\n",
              "         [17, 18, 19, 20],\n",
              "         [21, 22, 23, 24]]], dtype=int32)>,\n",
              " <tf.Tensor: shape=(2, 3, 4, 1), dtype=int32, numpy=\n",
              " array([[[[ 1],\n",
              "          [ 2],\n",
              "          [ 3],\n",
              "          [ 4]],\n",
              " \n",
              "         [[ 5],\n",
              "          [ 6],\n",
              "          [ 7],\n",
              "          [ 8]],\n",
              " \n",
              "         [[ 9],\n",
              "          [10],\n",
              "          [11],\n",
              "          [12]]],\n",
              " \n",
              " \n",
              "        [[[13],\n",
              "          [14],\n",
              "          [15],\n",
              "          [16]],\n",
              " \n",
              "         [[17],\n",
              "          [18],\n",
              "          [19],\n",
              "          [20]],\n",
              " \n",
              "         [[21],\n",
              "          [22],\n",
              "          [23],\n",
              "          [24]]]], dtype=int32)>)"
            ]
          },
          "execution_count": 10,
          "metadata": {},
          "output_type": "execute_result"
        }
      ],
      "source": [
        "# Last item of EACH row\n",
        "last = tensor[:2, :, -1]\n",
        "\n",
        "# Adding EXTRA dimension to the Rank 3 tensor ...\n",
        "tensor_ = tensor[..., tf.newaxis]\n",
        "\n",
        "# Alternatively ... expanding the nth axis ...\n",
        "tensor__ = tf.expand_dims(tensor, axis=-1)\n",
        "\n",
        "tensor, tensor__"
      ]
    },
    {
      "cell_type": "markdown",
      "metadata": {},
      "source": [
        "#### _Re-assigning values_"
      ]
    },
    {
      "cell_type": "code",
      "execution_count": 11,
      "metadata": {
        "id": "9AwrDLxqZa3q"
      },
      "outputs": [
        {
          "data": {
            "text/plain": [
              "array([[[23],\n",
              "        [24],\n",
              "        [25]],\n",
              "\n",
              "       [[26],\n",
              "        [27],\n",
              "        [28]]], dtype=int32)"
            ]
          },
          "execution_count": 11,
          "metadata": {},
          "output_type": "execute_result"
        }
      ],
      "source": [
        "example = np.arange(1, 7, dtype=np.int32)\n",
        "example = tf.constant(example, shape=(2, 3))\n",
        "example = tf.expand_dims(example, axis=-1)\n",
        "\n",
        "example_ = tf.Variable(example)\n",
        "example_[:, :, 0].assign([[23, 24, 25], [26, 27, 28]])\n",
        "\n",
        "example_.numpy()"
      ]
    },
    {
      "cell_type": "markdown",
      "metadata": {},
      "source": [
        "## Matrix **Multiplication**"
      ]
    },
    {
      "cell_type": "markdown",
      "metadata": {},
      "source": [
        "> #### For checking compatibility of Multiplication"
      ]
    },
    {
      "cell_type": "code",
      "execution_count": 12,
      "metadata": {},
      "outputs": [],
      "source": [
        "def check_order(m1, m2):\n",
        "    if m1.shape[1] == m2.shape[0]:\n",
        "        return True\n",
        "    return False"
      ]
    },
    {
      "cell_type": "code",
      "execution_count": 13,
      "metadata": {},
      "outputs": [
        {
          "name": "stdout",
          "output_type": "stream",
          "text": [
            "[[1 2 1]\n",
            " [0 1 0]\n",
            " [2 3 4]] \n",
            "\n",
            " [[2 7]\n",
            " [5 1]\n",
            " [6 8]] \n",
            "\n",
            " [[18 17]\n",
            " [ 5  1]\n",
            " [43 49]]\n"
          ]
        }
      ],
      "source": [
        "result_ = tf.constant([])\n",
        "\n",
        "m1 =  tf.constant([[1, 2, 1],\n",
        "                [0, 1, 0],\n",
        "                [2, 3, 4]])\n",
        "\n",
        "m2 = tf.constant([[2, 5],\n",
        "                  [6, 7],\n",
        "                  [1, 8]])\n",
        "\n",
        "m2 = tf.reshape(m2, shape=(2, 3))\n",
        "m2 = tf.transpose(m2)\n",
        "\n",
        "if check_order(m1, m2):\n",
        "    result_ = tf.matmul(m1, m2)\n",
        "    print(m1.numpy(), \"\\n\\n\", m2.numpy(), \"\\n\\n\", result_.numpy())\n",
        "else:\n",
        "    print(\"Incompatible shapes!\")"
      ]
    },
    {
      "cell_type": "markdown",
      "metadata": {},
      "source": [
        "### **Dot** Product\n",
        "\n",
        "> #### `axes` probably corresponds to "
      ]
    },
    {
      "cell_type": "code",
      "execution_count": 14,
      "metadata": {},
      "outputs": [
        {
          "data": {
            "text/plain": [
              "(<tf.Tensor: shape=(2, 2, 2, 4), dtype=int32, numpy=\n",
              " array([[[[ 7,  8, 12, 15],\n",
              "          [ 9, 10, 13, 16]],\n",
              " \n",
              "         [[14, 16, 24, 30],\n",
              "          [18, 20, 26, 32]]],\n",
              " \n",
              " \n",
              "        [[[28, 32, 48, 60],\n",
              "          [36, 40, 52, 64]],\n",
              " \n",
              "         [[35, 40, 60, 75],\n",
              "          [45, 50, 65, 80]]]], dtype=int32)>,\n",
              " <tf.Tensor: shape=(2, 4), dtype=int32, numpy=\n",
              " array([[ 25,  28,  38,  47],\n",
              "        [ 73,  82, 113, 140]], dtype=int32)>)"
            ]
          },
          "execution_count": 14,
          "metadata": {},
          "output_type": "execute_result"
        }
      ],
      "source": [
        "m_1 = tf.constant([[1, 2], [4, 5]])\n",
        "\n",
        "m_2 = tf.constant([[7, 8, 12, 15], [9, 10, 13, 16]])\n",
        "\n",
        "ax_0 = tf.tensordot(m_1, m_2, axes=0)\n",
        "ax_1 = tf.tensordot(m_1, m_2, axes=1)\n",
        "\n",
        "ax_0, ax_1"
      ]
    },
    {
      "cell_type": "markdown",
      "metadata": {},
      "source": [
        "### Changing **Datatypes**"
      ]
    },
    {
      "cell_type": "code",
      "execution_count": 17,
      "metadata": {},
      "outputs": [
        {
          "data": {
            "text/plain": [
              "(array([10., 20.], dtype=float32), array([10, 90], dtype=int32))"
            ]
          },
          "execution_count": 17,
          "metadata": {},
          "output_type": "execute_result"
        }
      ],
      "source": [
        "tf1 = tf.cast(tf.constant([10, 20]), dtype=tf.float32)\n",
        "tf2 = tf.cast(tf.constant([10.7, 90.823]), dtype=tf.int32)\n",
        "\n",
        "tf1.numpy(), tf2.numpy()"
      ]
    },
    {
      "cell_type": "markdown",
      "metadata": {},
      "source": [
        "## **Aggregation** Operations\n",
        " - #### Minimum"
      ]
    },
    {
      "cell_type": "code",
      "execution_count": 133,
      "metadata": {},
      "outputs": [
        {
          "name": "stdout",
          "output_type": "stream",
          "text": [
            "At index 2, the value is 5.\n",
            "Minimum value in [32 98  5 28 47 96 73 59 78 39] = 5\n"
          ]
        }
      ],
      "source": [
        "ex1 = tf.constant(np.random.randint(1, 100, size=10))\n",
        "print(f\"At index {tf.argmin(ex1).numpy()}, the value is {ex1.numpy()[tf.argmin(ex1).numpy()]}.\")\n",
        "print(f\"Minimum value in {ex1.numpy()} = {tf.reduce_min(ex1).numpy()}\")"
      ]
    },
    {
      "cell_type": "markdown",
      "metadata": {},
      "source": [
        "- #### Maximum"
      ]
    },
    {
      "cell_type": "code",
      "execution_count": 132,
      "metadata": {},
      "outputs": [
        {
          "name": "stdout",
          "output_type": "stream",
          "text": [
            "At index 2, the value is 99.\n",
            "Maximum value in [41 60 99 37 94 81 79 10 69 51] = 99\n"
          ]
        }
      ],
      "source": [
        "print(f\"At index {tf.argmax(ex1).numpy()}, the value is {ex1.numpy()[tf.argmax(ex1).numpy()]}.\")\n",
        "print(f\"Maximum value in {ex1.numpy()} = {tf.reduce_max(ex1).numpy()}\")"
      ]
    },
    {
      "cell_type": "markdown",
      "metadata": {},
      "source": [
        "- #### Mean"
      ]
    },
    {
      "cell_type": "code",
      "execution_count": 35,
      "metadata": {},
      "outputs": [
        {
          "name": "stdout",
          "output_type": "stream",
          "text": [
            "Mean value in [41 60 99 37 94 81 79 10 69 51] = 62\n"
          ]
        }
      ],
      "source": [
        "print(f\"Mean value in {ex1.numpy()} = {tf.reduce_mean(ex1).numpy()}\")"
      ]
    },
    {
      "cell_type": "markdown",
      "metadata": {},
      "source": [
        "- #### Sum"
      ]
    },
    {
      "cell_type": "code",
      "execution_count": 36,
      "metadata": {},
      "outputs": [
        {
          "name": "stdout",
          "output_type": "stream",
          "text": [
            "Sum of values in [41 60 99 37 94 81 79 10 69 51] = 621\n"
          ]
        }
      ],
      "source": [
        "print(f\"Sum of values in {ex1.numpy()} = {tf.reduce_sum(ex1).numpy()}\")"
      ]
    },
    {
      "cell_type": "markdown",
      "metadata": {},
      "source": [
        "- #### **Standard Deviation** and **Variance**\n",
        "You'll need to **typecast** the vector values to **float** dtype using the `tf.math.reduce_std()` and `tf.math.reduce_variance()` functions."
      ]
    },
    {
      "cell_type": "code",
      "execution_count": 61,
      "metadata": {},
      "outputs": [
        {
          "name": "stdout",
          "output_type": "stream",
          "text": [
            "Standard Deviation = 26.43 and Variance = 698.69, such that (26.43)^2 = 698.69 is False.\n"
          ]
        }
      ],
      "source": [
        "std = tf.math.reduce_std(tf.cast(ex1, dtype=tf.float32)).numpy()\n",
        "var = tf.math.reduce_variance(tf.cast(ex1, dtype=tf.float32)).numpy()\n",
        "\n",
        "print(f\"Standard Deviation = {std:.2f} and Variance = {var:.2f}, such that ({std:.2f})^2 = {var:.2f} is {std**2 == var}.\")"
      ]
    },
    {
      "cell_type": "markdown",
      "metadata": {},
      "source": [
        "Tensorflow **Probability** is needed for calculating **variance**."
      ]
    },
    {
      "cell_type": "code",
      "execution_count": 72,
      "metadata": {},
      "outputs": [
        {
          "name": "stdout",
          "output_type": "stream",
          "text": [
            "Variance = 698\n"
          ]
        }
      ],
      "source": [
        "print(f\"Variance = {tfp.stats.variance(ex1).numpy()}\")"
      ]
    },
    {
      "cell_type": "markdown",
      "metadata": {},
      "source": [
        "- ### Finding **positional** _minimum_ and _maximum_ values in a tensor\n",
        "> ##### `axis = 1` implies along the ROWS\n",
        "> ##### `axis = 0` implies along the COLS\n"
      ]
    },
    {
      "cell_type": "code",
      "execution_count": 136,
      "metadata": {},
      "outputs": [
        {
          "name": "stdout",
          "output_type": "stream",
          "text": [
            "[[0.8993373  0.88378036 0.41923654 0.21189368 0.73925066]\n",
            " [0.67720103 0.44673777 0.6203569  0.16035867 0.37029266]\n",
            " [0.01169467 0.71470606 0.69681764 0.36679387 0.6401024 ]\n",
            " [0.5637288  0.683892   0.7497109  0.15872943 0.93404984]\n",
            " [0.7439221  0.8204881  0.66244435 0.6527033  0.9074143 ]\n",
            " [0.96238065 0.0176084  0.10582292 0.51853156 0.6537857 ]\n",
            " [0.2711047  0.3220476  0.04456604 0.66971266 0.5760596 ]\n",
            " [0.9082918  0.6390605  0.9101312  0.23432922 0.20344794]\n",
            " [0.5190834  0.61612797 0.43161523 0.35779607 0.9292575 ]\n",
            " [0.71951675 0.8852018  0.26179063 0.01353407 0.2498759 ]]\n",
            "\n",
            "Row #1\t-\tMaximum value : 0.8993372917175293\tMinimum value : 0.21189367771148682\n",
            "Row #2\t-\tMaximum value : 0.6772010326385498\tMinimum value : 0.16035866737365723\n",
            "Row #3\t-\tMaximum value : 0.7147060632705688\tMinimum value : 0.011694669723510742\n",
            "Row #4\t-\tMaximum value : 0.9340498447418213\tMinimum value : 0.1587294340133667\n",
            "Row #5\t-\tMaximum value : 0.9074143171310425\tMinimum value : 0.6527032852172852\n",
            "Row #6\t-\tMaximum value : 0.9623806476593018\tMinimum value : 0.0176084041595459\n",
            "Row #7\t-\tMaximum value : 0.6697126626968384\tMinimum value : 0.04456603527069092\n",
            "Row #8\t-\tMaximum value : 0.9101312160491943\tMinimum value : 0.20344793796539307\n",
            "Row #9\t-\tMaximum value : 0.9292575120925903\tMinimum value : 0.3577960729598999\n",
            "Row #10\t-\tMaximum value : 0.8852018117904663\tMinimum value : 0.013534069061279297\n",
            "\n",
            "Column #1\t-\tMaximum value : 0.9623806476593018\tMinimum value : 0.011694669723510742\n",
            "Column #2\t-\tMaximum value : 0.8852018117904663\tMinimum value : 0.0176084041595459\n",
            "Column #3\t-\tMaximum value : 0.9101312160491943\tMinimum value : 0.04456603527069092\n",
            "Column #4\t-\tMaximum value : 0.6697126626968384\tMinimum value : 0.013534069061279297\n",
            "Column #5\t-\tMaximum value : 0.9340498447418213\tMinimum value : 0.20344793796539307\n"
          ]
        }
      ],
      "source": [
        "F = rg3.uniform(shape=[10, 5])\n",
        "\n",
        "print(F.numpy(),end='\\n\\n')\n",
        "\n",
        "for i in range(F.shape[0]):\n",
        "    print(f\"Row #{i+1}\\t-\\tMaximum value : {F.numpy()[i][tf.argmax(F, axis=1).numpy()[i]]}\\tMinimum value : {F.numpy()[i][tf.argmin(F, axis=1).numpy()[i]]}\")\n",
        "\n",
        "print(end='\\n')\n",
        "\n",
        "for j in range(F.shape[1]):\n",
        "    print(f\"Column #{j+1}\\t-\\tMaximum value : {F.numpy()[tf.argmax(F, axis=0).numpy()[j]][j]}\\tMinimum value : {F.numpy()[tf.argmin(F, axis=0).numpy()[j]][j]}\")\n"
      ]
    },
    {
      "cell_type": "markdown",
      "metadata": {},
      "source": [
        "## **Squeezing** Tensors\n",
        "> #### Removing all the 1-dimensional axes"
      ]
    },
    {
      "cell_type": "code",
      "execution_count": 160,
      "metadata": {},
      "outputs": [
        {
          "name": "stdout",
          "output_type": "stream",
          "text": [
            "Before squeeze operation : (1, 1, 1, 1, 2, 2)\n",
            "After squeeze operation  : (2, 2)\n"
          ]
        }
      ],
      "source": [
        "tf.random.set_seed(27)                                                      # for the reproducible results\n",
        "S = tf.constant(tf.random.uniform(shape=[2, 2]), shape=(1,1,1,1,2,2))       # adding 1-dimensional axes using shape attribute\n",
        "S_squeezed = tf.squeeze(S)                                                  # removing 1-dimensional axes from the tensor\n",
        "\n",
        "print(f\"Before squeeze operation : {S.shape}\\nAfter squeeze operation  : {S_squeezed.shape}\")"
      ]
    }
  ],
  "metadata": {
    "colab": {
      "authorship_tag": "ABX9TyP4GKHG/lQsaWHsv5naYLtU",
      "collapsed_sections": [
        "FrxueCNOCc8S",
        "fZD0K05fWeXY"
      ],
      "include_colab_link": true,
      "provenance": []
    },
    "kernelspec": {
      "display_name": "Python 3",
      "name": "python3"
    },
    "language_info": {
      "codemirror_mode": {
        "name": "ipython",
        "version": 3
      },
      "file_extension": ".py",
      "mimetype": "text/x-python",
      "name": "python",
      "nbconvert_exporter": "python",
      "pygments_lexer": "ipython3",
      "version": "3.10.13"
    }
  },
  "nbformat": 4,
  "nbformat_minor": 0
}
