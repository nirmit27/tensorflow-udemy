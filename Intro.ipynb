{
  "nbformat": 4,
  "nbformat_minor": 0,
  "metadata": {
    "colab": {
      "provenance": [],
      "authorship_tag": "ABX9TyPpbHT5HzxKqiVF6Bd8Eoqr",
      "include_colab_link": true
    },
    "kernelspec": {
      "name": "python3",
      "display_name": "Python 3"
    },
    "language_info": {
      "name": "python"
    }
  },
  "cells": [
    {
      "cell_type": "markdown",
      "metadata": {
        "id": "view-in-github",
        "colab_type": "text"
      },
      "source": [
        "<a href=\"https://colab.research.google.com/github/nirmit27/tensorflow-udemy/blob/main/Intro.ipynb\" target=\"_parent\"><img src=\"https://colab.research.google.com/assets/colab-badge.svg\" alt=\"Open In Colab\"/></a>"
      ]
    },
    {
      "cell_type": "markdown",
      "source": [
        "# _Introduction to **TensorFlow**_ 🤖"
      ],
      "metadata": {
        "id": "036YD6FZsWhL"
      }
    },
    {
      "cell_type": "code",
      "source": [
        "import tensorflow as tf\n",
        "import numpy as np\n",
        "\n",
        "rng = np.random.default_rng(seed=27)\n",
        "\n",
        "tf.__version__"
      ],
      "metadata": {
        "id": "nIPPF7tojORD",
        "colab": {
          "base_uri": "https://localhost:8080/",
          "height": 35
        },
        "outputId": "927f13b3-f337-4ea6-92b9-ea3f4d323462"
      },
      "execution_count": 47,
      "outputs": [
        {
          "output_type": "execute_result",
          "data": {
            "text/plain": [
              "'2.15.0'"
            ],
            "application/vnd.google.colaboratory.intrinsic+json": {
              "type": "string"
            }
          },
          "metadata": {},
          "execution_count": 47
        }
      ]
    },
    {
      "cell_type": "markdown",
      "source": [
        "### Creating tensors with `tf.constant()`"
      ],
      "metadata": {
        "id": "OeT-PL3irsj4"
      }
    },
    {
      "cell_type": "code",
      "source": [
        "x = tf.constant(np.random.randint(10))\n",
        "\n",
        "y = tf.constant(rng.random((3,3)))\n",
        "\n",
        "z = tf.constant([[\n",
        "    [i for i in range(1, 4)], [i for i in range(4, 7)],\n",
        "],\n",
        "     [\n",
        "         [i for i in range(7, 10)], [i for i in range(10, 13)]\n",
        "     ],\n",
        "     [\n",
        "         [i for i in range(13, 16)], [i for i in range(16, 19)]\n",
        "     ]\n",
        "])\n",
        "\n",
        "x, y, z"
      ],
      "metadata": {
        "id": "TyW_vYoun29I"
      },
      "execution_count": null,
      "outputs": []
    },
    {
      "cell_type": "markdown",
      "source": [
        "### Creating tensors with `tf.Variable()`"
      ],
      "metadata": {
        "id": "HIg1bvtUtTCK"
      }
    },
    {
      "cell_type": "code",
      "source": [
        "a = tf.Variable([[2, 3], [4, 5]])\n",
        "\n",
        "print(f\"Before changes :\\n{a}\\n\")\n",
        "\n",
        "a[1, :].assign([5, 6])\n",
        "\n",
        "print(f\"After changes :\\n{a}\\n\")"
      ],
      "metadata": {
        "colab": {
          "base_uri": "https://localhost:8080/"
        },
        "id": "7AvfYtTyrDnU",
        "outputId": "310a5d1b-53b2-4001-fe2a-6b6b09e1e983"
      },
      "execution_count": 61,
      "outputs": [
        {
          "output_type": "stream",
          "name": "stdout",
          "text": [
            "Before changes :\n",
            "<tf.Variable 'Variable:0' shape=(2, 2) dtype=int32, numpy=\n",
            "array([[2, 3],\n",
            "       [4, 5]], dtype=int32)>\n",
            "\n",
            "After changes :\n",
            "<tf.Variable 'Variable:0' shape=(2, 2) dtype=int32, numpy=\n",
            "array([[2, 3],\n",
            "       [5, 6]], dtype=int32)>\n",
            "\n"
          ]
        }
      ]
    }
  ]
}