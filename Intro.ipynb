{
  "nbformat": 4,
  "nbformat_minor": 0,
  "metadata": {
    "colab": {
      "provenance": [],
      "collapsed_sections": [
        "FrxueCNOCc8S",
        "fZD0K05fWeXY"
      ],
      "authorship_tag": "ABX9TyP4GKHG/lQsaWHsv5naYLtU",
      "include_colab_link": true
    },
    "kernelspec": {
      "name": "python3",
      "display_name": "Python 3"
    },
    "language_info": {
      "name": "python"
    }
  },
  "cells": [
    {
      "cell_type": "markdown",
      "metadata": {
        "id": "view-in-github",
        "colab_type": "text"
      },
      "source": [
        "<a href=\"https://colab.research.google.com/github/nirmit27/tensorflow-udemy/blob/main/Intro.ipynb\" target=\"_parent\"><img src=\"https://colab.research.google.com/assets/colab-badge.svg\" alt=\"Open In Colab\"/></a>"
      ]
    },
    {
      "cell_type": "markdown",
      "source": [
        "# Introduction to <b>TensorFlow</b>&nbsp;&nbsp;🤖\n",
        "\n",
        "> When in **doubt**, **code** it out."
      ],
      "metadata": {
        "id": "036YD6FZsWhL"
      }
    },
    {
      "cell_type": "code",
      "source": [
        "import numpy as np\n",
        "import tensorflow as tf\n",
        "\n",
        "rng = np.random.default_rng(seed=27)\n",
        "\n",
        "tf.__version__"
      ],
      "metadata": {
        "id": "nIPPF7tojORD",
        "colab": {
          "base_uri": "https://localhost:8080/",
          "height": 35
        },
        "outputId": "64e6dd5b-8064-49e6-da12-bc2d6ff43241"
      },
      "execution_count": 93,
      "outputs": [
        {
          "output_type": "execute_result",
          "data": {
            "text/plain": [
              "'2.15.0'"
            ],
            "application/vnd.google.colaboratory.intrinsic+json": {
              "type": "string"
            }
          },
          "metadata": {},
          "execution_count": 93
        }
      ]
    },
    {
      "cell_type": "markdown",
      "source": [
        "### Creating **unchangeable** tensors with `tf.constant()`"
      ],
      "metadata": {
        "id": "OeT-PL3irsj4"
      }
    },
    {
      "cell_type": "code",
      "source": [
        "x = tf.constant(np.random.randint(10))\n",
        "\n",
        "y = tf.constant(rng.random((3,3)))\n",
        "\n",
        "z = tf.constant([[\n",
        "    [i for i in range(1, 4)], [i for i in range(4, 7)],\n",
        "],\n",
        "     [\n",
        "         [i for i in range(7, 10)], [i for i in range(10, 13)]\n",
        "     ],\n",
        "     [\n",
        "         [i for i in range(13, 16)], [i for i in range(16, 19)]\n",
        "     ]\n",
        "])\n",
        "\n",
        "x, y, z"
      ],
      "metadata": {
        "id": "TyW_vYoun29I",
        "colab": {
          "base_uri": "https://localhost:8080/"
        },
        "outputId": "f33ddff5-c033-4afa-e31f-516f7c3a6671"
      },
      "execution_count": 94,
      "outputs": [
        {
          "output_type": "execute_result",
          "data": {
            "text/plain": [
              "(<tf.Tensor: shape=(), dtype=int32, numpy=8>,\n",
              " <tf.Tensor: shape=(3, 3), dtype=float64, numpy=\n",
              " array([[0.69773622, 0.31381427, 0.1211971 ],\n",
              "        [0.32359152, 0.93121187, 0.78966731],\n",
              "        [0.01001912, 0.19893322, 0.29311369]])>,\n",
              " <tf.Tensor: shape=(3, 2, 3), dtype=int32, numpy=\n",
              " array([[[ 1,  2,  3],\n",
              "         [ 4,  5,  6]],\n",
              " \n",
              "        [[ 7,  8,  9],\n",
              "         [10, 11, 12]],\n",
              " \n",
              "        [[13, 14, 15],\n",
              "         [16, 17, 18]]], dtype=int32)>)"
            ]
          },
          "metadata": {},
          "execution_count": 94
        }
      ]
    },
    {
      "cell_type": "markdown",
      "source": [
        "### Creating **changeable** tensors with `tf.Variable()`"
      ],
      "metadata": {
        "id": "HIg1bvtUtTCK"
      }
    },
    {
      "cell_type": "code",
      "source": [
        "a = tf.Variable([[2, 3], [4, 5]])\n",
        "\n",
        "print(f\"Before changes :\\n{a}\\n\")\n",
        "\n",
        "a[1, 0].assign(6)\n",
        "\n",
        "print(f\"After changes :\\n{a}\\n\")"
      ],
      "metadata": {
        "colab": {
          "base_uri": "https://localhost:8080/"
        },
        "id": "7AvfYtTyrDnU",
        "outputId": "0c00e9fa-56f0-41a4-d0fc-19ae1011c4d7"
      },
      "execution_count": 154,
      "outputs": [
        {
          "output_type": "stream",
          "name": "stdout",
          "text": [
            "Before changes :\n",
            "<tf.Variable 'Variable:0' shape=(2, 2) dtype=int32, numpy=\n",
            "array([[2, 3],\n",
            "       [4, 5]], dtype=int32)>\n",
            "\n",
            "After changes :\n",
            "<tf.Variable 'Variable:0' shape=(2, 2) dtype=int32, numpy=\n",
            "array([[2, 3],\n",
            "       [6, 5]], dtype=int32)>\n",
            "\n"
          ]
        }
      ]
    },
    {
      "cell_type": "markdown",
      "source": [
        "### Creating **random** tensors with `tf.random.Generator.from_seed()`"
      ],
      "metadata": {
        "id": "XkJPQJBpvOpV"
      }
    },
    {
      "cell_type": "code",
      "source": [
        "# Generator object for creating random tensors ...\n",
        "rg1 = tf.random.Generator.from_seed(42)\n",
        "rg2 = tf.random.Generator.from_seed(42)\n",
        "\n",
        "rg3 = tf.random.Generator.from_seed(27)\n",
        "\n",
        "# Output values from a NORMAL DISTRIBUTION ...\n",
        "r1 = rg1.normal(shape=[2, 3])\n",
        "r2 = rg2.normal(shape=[2, 3])\n",
        "\n",
        "r3 = rg3.normal(shape=[2, 3])\n",
        "\n",
        "r1 == r2, r1 == r3"
      ],
      "metadata": {
        "colab": {
          "base_uri": "https://localhost:8080/"
        },
        "id": "neHgGfySvtzz",
        "outputId": "5bbb51c5-0e17-44a2-b1e7-21d143c0b260"
      },
      "execution_count": 96,
      "outputs": [
        {
          "output_type": "execute_result",
          "data": {
            "text/plain": [
              "(<tf.Tensor: shape=(2, 3), dtype=bool, numpy=\n",
              " array([[ True,  True,  True],\n",
              "        [ True,  True,  True]])>,\n",
              " <tf.Tensor: shape=(2, 3), dtype=bool, numpy=\n",
              " array([[False, False, False],\n",
              "        [False, False, False]])>)"
            ]
          },
          "metadata": {},
          "execution_count": 96
        }
      ]
    },
    {
      "cell_type": "markdown",
      "source": [
        "### **Shuffling** the order\n",
        "> Keep in mind the **Global** and **Operation**-level seeds."
      ],
      "metadata": {
        "id": "cYK5X0uLxoos"
      }
    },
    {
      "cell_type": "code",
      "source": [
        "sample = tf.constant([[12, 24],\n",
        "                      [23, 45],\n",
        "                      [34, 90]])\n",
        "\n",
        "# for generating REPRODUCIBLE results ...\n",
        "# tf.random.set_seed(21)\n",
        "\n",
        "sample = tf.random.shuffle(sample, seed=21)\n",
        "\n",
        "sample.numpy()"
      ],
      "metadata": {
        "id": "skIyHGdKxtPj",
        "colab": {
          "base_uri": "https://localhost:8080/"
        },
        "outputId": "91b8dc87-0f1c-44c6-89a9-6abafeff31da"
      },
      "execution_count": 97,
      "outputs": [
        {
          "output_type": "execute_result",
          "data": {
            "text/plain": [
              "array([[12, 24],\n",
              "       [23, 45],\n",
              "       [34, 90]], dtype=int32)"
            ]
          },
          "metadata": {},
          "execution_count": 97
        }
      ]
    },
    {
      "cell_type": "markdown",
      "source": [
        "### **Other** ways for creation"
      ],
      "metadata": {
        "id": "LF88kO_bAE-v"
      }
    },
    {
      "cell_type": "code",
      "source": [
        "# making a 3-D Tensor from a 1-D Numpy Array ...\n",
        "arr = np.arange(1, 25, dtype=np.int32)\n",
        "tensor = tf.constant(arr, shape=(2, 3, 4))      #  2*3*4 = 24 i.e. make sure that the number of elements match!\n",
        "\n",
        "arr, tensor, tensor.ndim"
      ],
      "metadata": {
        "id": "gil5EiE1--TN",
        "colab": {
          "base_uri": "https://localhost:8080/"
        },
        "outputId": "a82b2d27-b32c-49c4-e99f-3e681357a09f"
      },
      "execution_count": 138,
      "outputs": [
        {
          "output_type": "execute_result",
          "data": {
            "text/plain": [
              "(array([ 1,  2,  3,  4,  5,  6,  7,  8,  9, 10, 11, 12, 13, 14, 15, 16, 17,\n",
              "        18, 19, 20, 21, 22, 23, 24], dtype=int32),\n",
              " <tf.Tensor: shape=(2, 3, 4), dtype=int32, numpy=\n",
              " array([[[ 1,  2,  3,  4],\n",
              "         [ 5,  6,  7,  8],\n",
              "         [ 9, 10, 11, 12]],\n",
              " \n",
              "        [[13, 14, 15, 16],\n",
              "         [17, 18, 19, 20],\n",
              "         [21, 22, 23, 24]]], dtype=int32)>,\n",
              " 3)"
            ]
          },
          "metadata": {},
          "execution_count": 138
        }
      ]
    },
    {
      "cell_type": "markdown",
      "source": [
        "### Fetching **information** from a tensor"
      ],
      "metadata": {
        "id": "FrxueCNOCc8S"
      }
    },
    {
      "cell_type": "code",
      "source": [
        "rank_4 = tf.ones(shape=[2,3,4,5])\n",
        "print(f\"Shape of the tensor\\t:\\t{rank_4.shape}\\nRank of the tensor\\t:\\t{rank_4.ndim}\\nSize of the tensor\\t:\\t{tf.size(rank_4).numpy()}\\nDatatype of the tensor\\t:\\t{rank_4.dtype}\")"
      ],
      "metadata": {
        "colab": {
          "base_uri": "https://localhost:8080/"
        },
        "id": "oMRgUjcaCinS",
        "outputId": "dd503889-9e9e-4316-a5f5-4a3a4c430e28"
      },
      "execution_count": 121,
      "outputs": [
        {
          "output_type": "stream",
          "name": "stdout",
          "text": [
            "Shape of the tensor\t:\t(2, 3, 4, 5)\n",
            "Rank of the tensor\t:\t4\n",
            "Size of the tensor\t:\t120\n",
            "Datatype of the tensor\t:\t<dtype: 'float32'>\n"
          ]
        }
      ]
    },
    {
      "cell_type": "markdown",
      "source": [
        "### **Indexing** and **Expanding** of tensors\n"
      ],
      "metadata": {
        "id": "DrTVrDA6QwOI"
      }
    },
    {
      "cell_type": "markdown",
      "source": [
        "#### _Indexing_"
      ],
      "metadata": {
        "id": "fZD0K05fWeXY"
      }
    },
    {
      "cell_type": "code",
      "source": [
        "# First 2 elements of each dimension\n",
        "first_2 = tensor[:2, :2, :2]\n",
        "first_except_final = tensor[:1, :1, :]\n",
        "first_except_2nd_last = tensor[:1, :, :1]\n",
        "\n",
        "# first_2\n",
        "# first_except_final\n",
        "first_except_2nd_last"
      ],
      "metadata": {
        "colab": {
          "base_uri": "https://localhost:8080/"
        },
        "id": "-ZBLKRrgQkKv",
        "outputId": "3953accc-2964-48ce-d2c6-3e3f4922be09"
      },
      "execution_count": 139,
      "outputs": [
        {
          "output_type": "execute_result",
          "data": {
            "text/plain": [
              "<tf.Tensor: shape=(1, 3, 1), dtype=int32, numpy=\n",
              "array([[[1],\n",
              "        [5],\n",
              "        [9]]], dtype=int32)>"
            ]
          },
          "metadata": {},
          "execution_count": 139
        }
      ]
    },
    {
      "cell_type": "markdown",
      "source": [
        "#### _Expanding_"
      ],
      "metadata": {
        "id": "0LitSt6lVmj5"
      }
    },
    {
      "cell_type": "code",
      "source": [
        "# Last item of EACH row\n",
        "last = tensor[:2, :, -1]\n",
        "\n",
        "# Adding EXTRA dimension to the Rank 3 tensor ...\n",
        "tensor_ = tensor[..., tf.newaxis]\n",
        "\n",
        "# Alternatively ... expanding the nth axis ...\n",
        "tensor__ = tf.expand_dims(tensor, axis=-1)\n",
        "\n",
        "tensor, tensor__"
      ],
      "metadata": {
        "id": "VTrNli6mVr3z"
      },
      "execution_count": null,
      "outputs": []
    },
    {
      "cell_type": "code",
      "source": [
        "example = np.arange(1, 7, dtype=np.int32)\n",
        "example = tf.constant(example, shape=(2, 3))\n",
        "\n",
        "tf.expand_dims(example, axis=-1)"
      ],
      "metadata": {
        "colab": {
          "base_uri": "https://localhost:8080/"
        },
        "id": "9AwrDLxqZa3q",
        "outputId": "ff516aef-bf6c-48ef-d68f-11a11800bb1b"
      },
      "execution_count": 170,
      "outputs": [
        {
          "output_type": "execute_result",
          "data": {
            "text/plain": [
              "<tf.Tensor: shape=(2, 3, 1), dtype=int32, numpy=\n",
              "array([[[1],\n",
              "        [2],\n",
              "        [3]],\n",
              "\n",
              "       [[4],\n",
              "        [5],\n",
              "        [6]]], dtype=int32)>"
            ]
          },
          "metadata": {},
          "execution_count": 170
        }
      ]
    }
  ]
}